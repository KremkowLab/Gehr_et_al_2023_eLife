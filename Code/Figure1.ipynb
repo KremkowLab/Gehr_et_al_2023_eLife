{
 "cells": [
  {
   "cell_type": "code",
   "execution_count": 1,
   "id": "e45167b9",
   "metadata": {},
   "outputs": [],
   "source": [
    "import numpy as np\n",
    "import matplotlib.pyplot as plt\n",
    "import os\n",
    "import scipy.ndimage as ndimage\n",
    "import scipy.ndimage as nd\n",
    "import scipy.interpolate as interpolate\n",
    "import seaborn as sns\n",
    "from matplotlib import rcParams\n",
    "import math\n",
    "import pandas as pd\n",
    "import warnings\n",
    "warnings.filterwarnings('ignore')\n",
    "%matplotlib inline"
   ]
  },
  {
   "cell_type": "code",
   "execution_count": 2,
   "id": "ea07f4eb",
   "metadata": {},
   "outputs": [],
   "source": [
    "rcParams['font.sans-serif'] = ['Arial'] \n",
    "rcParams['font.size'] = 6 #7\n",
    "rcParams['pdf.fonttype'] = 42\n",
    "rcParams['ps.fonttype'] = 42\n",
    "\n",
    "rcParams['axes.linewidth'] = 0.5\n",
    "rcParams['lines.linewidth'] = 0.5\n",
    "rcParams['lines.markersize'] = 2.5\n",
    "rcParams['lines.markeredgewidth'] = 0.0\n",
    "\n",
    "rcParams['xtick.major.width'] = 0.5\n",
    "rcParams['ytick.major.width'] = 0.5\n",
    "\n",
    "to_inch = 0.393701\n",
    "fwidth_cm = 10 #10. # cm\n",
    "fheight_cm = 10. # cm\n",
    "\n",
    "spwidth_cm = 1.5\n",
    "spheight_cm = 3.\n",
    "w = spwidth_cm/fwidth_cm\n",
    "h = spheight_cm/fheight_cm\n",
    "fwidth_inch = fwidth_cm * to_inch\n",
    "fheight_inch = fheight_cm * to_inch\n",
    "\n",
    "cmap = plt.cm.magma\n",
    "\n",
    "lw_scatter = 0.4\n",
    "ticks_fontsize = 6. \n",
    "spines_thickness = 0.5\n",
    "ticks_width = spines_thickness\n",
    "s_scatter = 8  \n",
    "lw_stats_bar = 0.6\n",
    "lw_scatter = 0.2\n",
    "alpha_scatter = 0.6\n",
    "width_bars = 1.5\n",
    "tick_length = 3.\n",
    "markersize_rasterdots = 1.5 \n",
    "fs = 6.\n",
    "lw = 0.3\n",
    "despine_offset = 2\n",
    "\n",
    "color_mpw = np.array([242,101,34])/255\n",
    "color_su = [0.3,0.3,0.3] \n",
    "color_EXC = 'dimgray' \n",
    "color_INH = np.array([62,185,236.])/255   "
   ]
  },
  {
   "cell_type": "code",
   "execution_count": 3,
   "id": "865426f8",
   "metadata": {},
   "outputs": [],
   "source": [
    "def calc_rf_center(rf,thr):\n",
    "    rf_tmp = rf.copy() \n",
    "    rf_tmp[np.abs(rf_tmp)<= thr] = 0.\n",
    "    (x,y)=ndimage.measurements.center_of_mass(rf_tmp)\n",
    "    \n",
    "    return x,y,rf_tmp"
   ]
  },
  {
   "cell_type": "code",
   "execution_count": 7,
   "id": "de84455b",
   "metadata": {},
   "outputs": [],
   "source": [
    "data_dir = '/.../Data/' \n",
    "data_dir = '/Users/carolingehr/Desktop/Revision_eLife/final_submission_Checklist_SourceDataCode/Gehr_et_al_2023_eLife-main/Data/'"
   ]
  },
  {
   "cell_type": "markdown",
   "id": "129f20de",
   "metadata": {},
   "source": [
    "## Plot Panels 1 E and F"
   ]
  },
  {
   "cell_type": "code",
   "execution_count": 8,
   "id": "c487f762",
   "metadata": {},
   "outputs": [],
   "source": [
    "selected_clusters = [255, 643, 641] \n",
    "RGCs = [0, 0, 1] \n",
    "cl_labels = ['EXC', 'INH', 'RGC']\n",
    "colors_array = [color_EXC, color_INH, color_mpw]\n",
    "\n",
    "Fig1EF_Data = np.load(data_dir + 'Fig1EF_Data.npy', encoding='latin1', allow_pickle=True).item() \n",
    "sta_opto = Fig1EF_Data['sta_opto'] \n",
    "raster_trials = Fig1EF_Data['raster_trials'] \n",
    "raster_times = Fig1EF_Data['raster_times'] \n",
    "psths_CorrSparse = Fig1EF_Data['psths_CorrSparse'] \n",
    "RasterTrials_NaturalMovie = Fig1EF_Data['RasterTrials_NaturalMovie'] \n",
    "RasterTimes_NaturalMovie = Fig1EF_Data['RasterTimes_NaturalMovie'] "
   ]
  },
  {
   "cell_type": "code",
   "execution_count": 9,
   "id": "3441cc4f",
   "metadata": {},
   "outputs": [
    {
     "data": {
      "image/png": "[encoded data removed]",
      "text/plain": [
       "<Figure size 283.465x283.465 with 4 Axes>"
      ]
     },
     "metadata": {
      "needs_background": "light"
     },
     "output_type": "display_data"
    },
    {
     "data": {
      "image/png": "[encoded data removed]",
      "text/plain": [
       "<Figure size 283.465x283.465 with 4 Axes>"
      ]
     },
     "metadata": {
      "needs_background": "light"
     },
     "output_type": "display_data"
    },
    {
     "data": {
      "image/png": "[encoded data removed]",
      "text/plain": [
       "<Figure size 283.465x283.465 with 4 Axes>"
      ]
     },
     "metadata": {
      "needs_background": "light"
     },
     "output_type": "display_data"
    }
   ],
   "source": [
    "n_trials_NaturalMovie = 30\n",
    "stim_dur_optotagging_s = 0.1\n",
    "n_trials_optotagging = 100\n",
    "lim_time_s = [-0.05, 0.15]\n",
    "bin_width_s_optotagging = 0.001 \n",
    "psth_range_s_optotagging = np.arange(-0.5, 1.5, bin_width_s_optotagging)  \n",
    "to_spikes_per_second = 1/bin_width_s_optotagging\n",
    "bin_width_s_NatMov = 0.01\n",
    "psth_range_s_NatMov = np.arange(-1,16, bin_width_s_NatMov) # s\n",
    "to_spikes_per_second_NatMov = 1/bin_width_s_NatMov\n",
    "sammpling_rate = 30000\n",
    "#fig, axes = plt.subplots(2, 3, figsize=(15,10))\n",
    "\n",
    "for idx, cl in enumerate(selected_clusters):  \n",
    "    cl_label_observer = cl_labels[idx] \n",
    "    color_tmp = colors_array[idx]\n",
    "    \n",
    "    fig = plt.figure(cl)\n",
    "    plt.clf()\n",
    "    fig.set_size_inches(fwidth_inch,fheight_inch)\n",
    "    \n",
    "   # Optotagging Raster\n",
    "    ax = plt.axes([0.1,0.3,0.15,0.1])  \n",
    "    #ax = axes[0, idx]\n",
    "    ax.tick_params(length=tick_length)\n",
    "    ax.tick_params(labelsize=ticks_fontsize)  \n",
    "    ax.tick_params(width=ticks_width) \n",
    "    ax.spines['left'].set_linewidth(spines_thickness)  \n",
    "    ax.spines['bottom'].set_linewidth(spines_thickness)  \n",
    "  \n",
    "    raster_times_s_tmp = raster_times[cl]/sammpling_rate  \n",
    "    raster_trials_tmp = raster_trials[cl] \n",
    "\n",
    "    ax.set_xlabel('Time (s)', labelpad=2, fontsize=fs)\n",
    "    ax.set_ylabel('Trial', labelpad=2, fontsize=fs)\n",
    "    ax.plot(raster_times_s_tmp,raster_trials_tmp,'.', color='k' , markersize=markersize_rasterdots) #, color='darkmagenta')\n",
    "\n",
    "    ax.spines['right'].set_visible(False)\n",
    "    ax.spines['top'].set_visible(False)\n",
    "    ax.axvspan(xmin=0., xmax=stim_dur_optotagging_s, ymin=0.0, ymax=1.,  alpha=0.3 , edgecolor=None, color='lightskyblue')\n",
    "    ax.set_xlim(lim_time_s)\n",
    "   \n",
    "    ax.set_ylim([0, n_trials_optotagging])\n",
    "    y_positions_trials_opto = np.array([0, 49, 99]) \n",
    "    y_labels_trials =  y_positions_trials_opto +1 \n",
    "    ax.set_yticks(y_positions_trials_opto)\n",
    "    ax.set_yticklabels(y_labels_trials)\n",
    "    positions_x_s = [-0.05,  0 , 0.15]\n",
    "    labels_x_s = ['-0.05', '0', '0.15']\n",
    "    ax.set_xticks(positions_x_s)  \n",
    "    ax.set_xticklabels(labels_x_s)\n",
    "    \n",
    "    # Optotatgging PSTH\n",
    "    ax_OptoFR = ax.twinx()\n",
    "    ax_OptoFR.plot(psth_range_s_optotagging[:-1], sta_opto[cl]*to_spikes_per_second, color=color_tmp, linewidth= 0.5 )\n",
    "    ax_OptoFR.set_ylim([0, 60])\n",
    "    ax_OptoFR.spines['top'].set_visible(False)  # ax.spines['top'].set_visible(False)\n",
    "    ax_OptoFR.spines['bottom'].set_visible(False)\n",
    "    ax_OptoFR.spines['left'].set_visible(False)\n",
    "    ax_OptoFR.spines['right'].set_visible(False)\n",
    "    ax_OptoFR.axes.get_yaxis().set_visible(False)\n",
    "    # Scale Bar Optotaggging\n",
    "    scale_Hz = 20\n",
    "    ax_OptoFR.plot([0.15, 0.15], [0, scale_Hz], color=color_tmp, linewidth = 3.5)  # x(from-to), y (from,-to)\n",
    "    ax_OptoFR.text(0.15, 0.5, s= str(scale_Hz) +' Hz' ) \n",
    "\n",
    "    sns.despine(ax = ax, offset=2, trim=True)  \n",
    "    \n",
    "    # NaturalMovie \n",
    "    y_positions_trials = np.array([0, 29]) \n",
    "    y_labels_trials_CorrSparse = np.array([1, 30]) \n",
    "    xlim = [-1, 5] # [0,10]  # \n",
    "\n",
    "    # Natural mvoie Raster\n",
    "    ax_CorrSparseCombined = plt.axes([0.1,0.1,0.35,0.1])\n",
    "    #ax_CorrSparseCombined = axes[1, idx]\n",
    "    ax_CorrSparseCombined.plot(RasterTimes_NaturalMovie[cl], RasterTrials_NaturalMovie[cl],'.', markersize=markersize_rasterdots, color='k', alpha=0.5) # , markersize=1.5) \n",
    "    positions = (-1,0, 5) #, 15)\n",
    "    labels = ('-1', \"0\", '5') #, '15')\n",
    "    ax_CorrSparseCombined.set_xticks(positions)\n",
    "    ax_CorrSparseCombined.set_xticklabels(labels)\n",
    "    ax_CorrSparseCombined.set_xlabel('Time (s)',labelpad=2)\n",
    "\n",
    "    ax_CorrSparseCombined.set_xlim(xlim)\n",
    "    ax_CorrSparseCombined.set_yticks(y_positions_trials)\n",
    "    ax_CorrSparseCombined.set_yticklabels(y_labels_trials_CorrSparse)\n",
    "    ax_CorrSparseCombined.set_ylim([0, n_trials_NaturalMovie])\n",
    "    ax_CorrSparseCombined.set_ylabel('Trial' , labelpad=2)\n",
    "    # Natural mvoie PSTH\n",
    "    ax_FR = ax_CorrSparseCombined.twinx()\n",
    "    ax_FR.plot(psth_range_s_NatMov[:-1], psths_CorrSparse[cl]*to_spikes_per_second_NatMov, color= color_tmp, lw= lw) #\n",
    "    ax_FR.spines['top'].set_visible(False)  # ax.spines['top'].set_visible(False)\n",
    "    ax_FR.spines['bottom'].set_visible(False)\n",
    "    ax_FR.spines['left'].set_visible(False)\n",
    "    ax_FR.spines['right'].set_visible(False)\n",
    "    ax_FR.axes.get_yaxis().set_visible(False)\n",
    "    # Scale Bar Natural Movie\n",
    "    scale_Hz = 20\n",
    "    ax_FR.plot([5, 5], [0, scale_Hz], color= color_tmp, linewidth = 3.5)  # x(from-to), y (from,-to)\n",
    "    ax_FR.text(5.05, 0.5, s= str(scale_Hz) +' Hz' )  # x(from-to), y (from,-to)\n",
    "    \n",
    "    sns.despine(ax = ax_CorrSparseCombined, offset=2, trim=True)  \n",
    "    plt.tick_params('both', pad=1)\n",
    "    \n",
    "    #plt.savefig(data_dir + str(cl_label_observer) + '_panel1_EF.pdf')\n"
   ]
  },
  {
   "cell_type": "markdown",
   "id": "0eb544ff",
   "metadata": {},
   "source": [
    "## Plot Panel 1 D"
   ]
  },
  {
   "cell_type": "code",
   "execution_count": 10,
   "id": "ec4187de",
   "metadata": {},
   "outputs": [
    {
     "data": {
      "image/png": "[encoded data removed]",
      "text/plain": [
       "<Figure size 283.465x283.465 with 4 Axes>"
      ]
     },
     "metadata": {
      "needs_background": "light"
     },
     "output_type": "display_data"
    },
    {
     "data": {
      "image/png": "[encoded data removed]",
      "text/plain": [
       "<Figure size 283.465x283.465 with 4 Axes>"
      ]
     },
     "metadata": {
      "needs_background": "light"
     },
     "output_type": "display_data"
    },
    {
     "data": {
      "image/png": "[encoded data removed]",
      "text/plain": [
       "<Figure size 283.465x283.465 with 4 Axes>"
      ]
     },
     "metadata": {
      "needs_background": "light"
     },
     "output_type": "display_data"
    }
   ],
   "source": [
    "# 1 D) Waveforms and RFs  \n",
    "#rcParams['pcolor.shading'] = 'auto'\n",
    "Fig1D_Data = np.load(data_dir + 'Fig1D_Data.npy', encoding='latin1', allow_pickle=True).item() \n",
    "RFs = Fig1D_Data['RFs'] \n",
    "Waveforms = Fig1D_Data['Waveforms'] \n",
    "\n",
    "cluster_ids =  [1028, 532, 474]\n",
    "cl_labels = ['RGC', 'INH', 'EXC']\n",
    "colors_array = [color_mpw, color_INH, color_EXC]\n",
    "\n",
    "chs_neuropix = np.arange(384)\n",
    "\n",
    "for idx, clus_id in enumerate(cluster_ids):\n",
    "    \n",
    "    lags_ms_interp = Waveforms[clus_id]['lags_ms_interp']\n",
    "    clim_tmp = Waveforms[clus_id]['clim_tmp'] \n",
    "    ch = Waveforms[clus_id]['peak_channel'] \n",
    "    t_use = Waveforms[clus_id]['t_use'] \n",
    "    mcwf_chs_interp_compressed = Waveforms[clus_id]['mcwf_chs_interp_compressed'] \n",
    "    waveform1d_peakch = Waveforms[clus_id]['1D_waveform'] \n",
    "    \n",
    "    cl_label_observer = cl_labels[idx] \n",
    "    color_tmp = colors_array[idx]\n",
    "    \n",
    "    fig = plt.figure(clus_id )\n",
    "    plt.clf()\n",
    "    fig.set_size_inches(fwidth_inch,fheight_inch)\n",
    "    \n",
    "    # Plot RF\n",
    "    rf_tmp = RFs[clus_id].copy()\n",
    "    comy, comx, rf_tmp_com = calc_rf_center( rf_tmp ,0.6)\n",
    "    rf_window = 15    # crop RF\n",
    "    \n",
    "    ax = plt.axes([0.28,0.35,0.05,0.05])\n",
    "    ax.tick_params(length=tick_length)\n",
    "    ax.spines['right'].set_visible(False)\n",
    "    ax.spines['top'].set_visible(False)\n",
    "    ax.spines['left'].set_visible(False)\n",
    "    ax.spines['bottom'].set_visible(False)\n",
    "    \n",
    "    pmesh = plt.pcolormesh(rf_tmp,rasterized=True,cmap=plt.cm.magma)\n",
    "    plt.xlim([comx-rf_window,comx+rf_window])\n",
    "    plt.ylim([comy-rf_window,comy+rf_window])\n",
    "    \n",
    "    plt.clim([0,1])\n",
    "    plt.xticks([])\n",
    "    plt.yticks([])\n",
    "    plt.tick_params('both',pad=1)\n",
    "    plt.title('RF',pad=2)\n",
    "    \n",
    "    # 1 D waveform\n",
    "    time_lim = [-1.0, 1.8]  \n",
    "    time_ticks = [-1.0,0,1.8] \n",
    "    tick_length = 3.\n",
    "    ch_ticks = [1,192,384,ch] \n",
    "    ch_ticks.sort()\n",
    "    \n",
    "    cmap = plt.cm.RdBu_r\n",
    "\n",
    "    ax = plt.axes([0.2,0.87,w,0.1])\n",
    "    ax.tick_params(length=tick_length)\n",
    "    ax.spines['right'].set_visible(False)\n",
    "    ax.spines['top'].set_visible(False)\n",
    "    plt.plot(lags_ms_interp[t_use], waveform1d_peakch[t_use],color = color_tmp) #'k')\n",
    "    plt.xlim(time_lim)\n",
    "    \n",
    "    plt.ylim([-150, 100])\n",
    "    plt.xlabel('Time (ms)', labelpad=2)\n",
    "    ax.set_ylabel('Amp \\u03BCV', labelpad=2)\n",
    "    plt.hlines(y=waveform1d_peakch.min(), xmin=-1, xmax= time_lim[-1] , colors='lightgray', linestyles='--')\n",
    "    plt.tick_params('both',pad=1)\n",
    "\n",
    "    # 2D waveform \n",
    "    ax_wf = plt.axes([0.2,0.50,w,h])\n",
    "    ax_wf.tick_params(length=tick_length)\n",
    "    ax_wf.spines['right'].set_visible(False)\n",
    "    ax_wf.spines['top'].set_visible(False)\n",
    "    ax_wf.spines['left'].set_color(color_tmp)\n",
    "    ax_wf.spines['bottom'].set_color(color_tmp)\n",
    "    pmesh_2d = plt.pcolormesh(lags_ms_interp[t_use],chs_neuropix[0::2], mcwf_chs_interp_compressed,cmap=cmap,rasterized=True)\n",
    "    plt.xlim(time_lim)\n",
    "    plt.clim(clim_tmp)\n",
    "    plt.xticks(time_ticks)\n",
    "    plt.yticks(ch_ticks)\n",
    "    plt.xlabel('Time (ms)',labelpad=2)\n",
    "    plt.ylabel('Channel number',labelpad=2) \n",
    "    plt.tick_params('both',pad=1)\n",
    "    # colorbar\n",
    "    ax_cbar_2d = plt.axes([0.4,0.5,0.01,0.05])\n",
    "    cbar = plt.colorbar(pmesh_2d, cax= ax_cbar_2d, fraction=0.02,anchor=(0,0), ticks=[clim_tmp[0], clim_tmp[-1]])\n",
    "    cbar.set_label('Amp \\u03BCV',labelpad=1)\n",
    "\n",
    "    fig.text(0.05, 0.1, 'Cluster: '+ str(clus_id) + ' | CellType '  + cl_label_observer , fontsize=fs)    \n",
    "    \n",
    "    # Save figure   \n",
    "    #save_name = 'Figure1D_RF_Waveform_'\n",
    "    #figure_name_pdf = data_dir + save_name  + cl_label_observer +'.pdf'\n",
    "    #plt.savefig(figure_name_pdf, dpi=200)  \n"
   ]
  },
  {
   "cell_type": "markdown",
   "id": "21df5ce8",
   "metadata": {},
   "source": [
    "## Plot Panel 1 G"
   ]
  },
  {
   "cell_type": "code",
   "execution_count": 11,
   "id": "87d27818",
   "metadata": {},
   "outputs": [
    {
     "data": {
      "text/html": [
       "<div>\n",
       "<style scoped>\n",
       "    .dataframe tbody tr th:only-of-type {\n",
       "        vertical-align: middle;\n",
       "    }\n",
       "\n",
       "    .dataframe tbody tr th {\n",
       "        vertical-align: top;\n",
       "    }\n",
       "\n",
       "    .dataframe thead th {\n",
       "        text-align: right;\n",
       "    }\n",
       "</style>\n",
       "<table border=\"1\" class=\"dataframe\">\n",
       "  <thead>\n",
       "    <tr style=\"text-align: right;\">\n",
       "      <th></th>\n",
       "      <th>mean_FR</th>\n",
       "      <th>cell_types</th>\n",
       "    </tr>\n",
       "  </thead>\n",
       "  <tbody>\n",
       "    <tr>\n",
       "      <th>0</th>\n",
       "      <td>0.650000</td>\n",
       "      <td>RGC</td>\n",
       "    </tr>\n",
       "    <tr>\n",
       "      <th>1</th>\n",
       "      <td>15.983333</td>\n",
       "      <td>RGC</td>\n",
       "    </tr>\n",
       "    <tr>\n",
       "      <th>2</th>\n",
       "      <td>8.253333</td>\n",
       "      <td>RGC</td>\n",
       "    </tr>\n",
       "    <tr>\n",
       "      <th>3</th>\n",
       "      <td>3.063333</td>\n",
       "      <td>RGC</td>\n",
       "    </tr>\n",
       "    <tr>\n",
       "      <th>4</th>\n",
       "      <td>3.396667</td>\n",
       "      <td>RGC</td>\n",
       "    </tr>\n",
       "    <tr>\n",
       "      <th>...</th>\n",
       "      <td>...</td>\n",
       "      <td>...</td>\n",
       "    </tr>\n",
       "    <tr>\n",
       "      <th>1001</th>\n",
       "      <td>0.160606</td>\n",
       "      <td>EXC</td>\n",
       "    </tr>\n",
       "    <tr>\n",
       "      <th>1002</th>\n",
       "      <td>0.290909</td>\n",
       "      <td>EXC</td>\n",
       "    </tr>\n",
       "    <tr>\n",
       "      <th>1003</th>\n",
       "      <td>0.572727</td>\n",
       "      <td>EXC</td>\n",
       "    </tr>\n",
       "    <tr>\n",
       "      <th>1004</th>\n",
       "      <td>0.824242</td>\n",
       "      <td>EXC</td>\n",
       "    </tr>\n",
       "    <tr>\n",
       "      <th>1005</th>\n",
       "      <td>1.090909</td>\n",
       "      <td>EXC</td>\n",
       "    </tr>\n",
       "  </tbody>\n",
       "</table>\n",
       "<p>1006 rows × 2 columns</p>\n",
       "</div>"
      ],
      "text/plain": [
       "        mean_FR cell_types\n",
       "0      0.650000        RGC\n",
       "1     15.983333        RGC\n",
       "2      8.253333        RGC\n",
       "3      3.063333        RGC\n",
       "4      3.396667        RGC\n",
       "...         ...        ...\n",
       "1001   0.160606        EXC\n",
       "1002   0.290909        EXC\n",
       "1003   0.572727        EXC\n",
       "1004   0.824242        EXC\n",
       "1005   1.090909        EXC\n",
       "\n",
       "[1006 rows x 2 columns]"
      ]
     },
     "execution_count": 11,
     "metadata": {},
     "output_type": "execute_result"
    },
    {
     "data": {
      "image/png": "[encoded data removed]",
      "text/plain": [
       "<Figure size 283.465x283.465 with 1 Axes>"
      ]
     },
     "metadata": {
      "needs_background": "light"
     },
     "output_type": "display_data"
    }
   ],
   "source": [
    "#  Figure 1G\n",
    "Fig1G_Dict = np.load(data_dir + 'Fig1G_Data.npy' , encoding='latin1', allow_pickle=True).item()  # RFs \n",
    "\n",
    "mean_FR_NM_RGCs = Fig1G_Dict['mean_FR_NM_RGCs'] \n",
    "mean_FR_NM_EXCs= Fig1G_Dict['mean_FR_NM_EXCs']  \n",
    "mean_FR_NM_INHs = Fig1G_Dict['mean_FR_NM_INHs']   \n",
    "exc_idx_singleCl_GUIObservers_new = Fig1G_Dict['exc_idx'] \n",
    "inh_idx_singleCl_GUIObservers = Fig1G_Dict['inh_idx'] \n",
    "RGCs_pooled_perExp = Fig1G_Dict['RGCs_pooled_perExp'] \n",
    "\n",
    "quartiles = [0.25,0.5,0.75]\n",
    "Q1_RGC, median_RGC, Q3_RGC = np.quantile(mean_FR_NM_RGCs, quartiles)\n",
    "Q1_RGC = np.round(Q1_RGC,2)\n",
    "Q3_RGC = np.round(Q3_RGC,2)\n",
    "median_RGC = np.round(median_RGC,2)\n",
    "\n",
    "quartiles = [0.25,0.5,0.75]\n",
    "Q1_EXC, median_EXC, Q3_EXC = np.quantile(mean_FR_NM_EXCs, quartiles)\n",
    "Q1_EXC = np.round(Q1_EXC,2)\n",
    "Q3_EXC = np.round(Q3_EXC,2)\n",
    "median_EXC = np.round(median_EXC,2)\n",
    "\n",
    "quartiles = [0.25,0.5,0.75]\n",
    "Q1_INH, median_INH, Q3_INH = np.quantile(mean_FR_NM_INHs, quartiles)\n",
    "Q1_INH = np.round(Q1_INH,2)\n",
    "Q3_INH = np.round(Q3_INH,2)\n",
    "median_INH = np.round(median_INH,2)\n",
    "\n",
    "rgc = len(mean_FR_NM_RGCs)*['RGC'] \n",
    "inh = len(mean_FR_NM_INHs)*['INH']\n",
    "exc = len(mean_FR_NM_EXCs)*['EXC']\n",
    "cell_types = rgc + inh + exc\n",
    "\n",
    "mean_FR_all = mean_FR_NM_RGCs + list(mean_FR_NM_INHs) + list(mean_FR_NM_EXCs)\n",
    "\n",
    "df_MeanFR = pd.DataFrame()\n",
    "df_MeanFR['mean_FR']  = mean_FR_all\n",
    "df_MeanFR['cell_types']  = cell_types\n",
    "\n",
    "colors = [color_mpw, color_INH, color_EXC]\n",
    "w_mean = 0.18 \n",
    "h_mean = 0.12 \n",
    "\n",
    "fig = plt.figure()\n",
    "plt.clf()\n",
    "fig.set_size_inches(fwidth_inch,fheight_inch)\n",
    "\n",
    "ax_FR = plt.axes([0.2,0.6, w_mean, h_mean])\n",
    "ax_FR.tick_params(length=tick_length)\n",
    "ax_FR.spines['right'].set_visible(False)\n",
    "ax_FR.spines['top'].set_visible(False)\n",
    "sns.ecdfplot(data=df_MeanFR, x=\"mean_FR\", hue=\"cell_types\", stat = 'proportion' ,  palette=colors, legend=False)\n",
    "mark = quartiles[1]\n",
    "ax_FR.hlines(y= mark, xmin= median_EXC, xmax=median_INH, linewidth=lw, linestyles='dashed', color='red')\n",
    "ax_FR.hlines(y= mark, xmin= median_EXC, xmax=median_RGC, linewidth=lw, linestyles='dashed', color='gray')\n",
    "ax_FR.hlines(y= mark, xmin= median_INH, xmax=median_RGC, linewidth=lw, linestyles='dashed', color='blue')\n",
    "ax_FR.set_xticks([0, 20, 40, 60])\n",
    "ax_FR.set_xticklabels([0, 20, 40, 60])\n",
    "ax_FR.set_yticklabels([0, 0.5, 1])\n",
    "\n",
    "sns.despine(ax= ax_FR, offset=despine_offset , trim=True)\n",
    "\n",
    "fig.text(0.1, 0.97, 'Quartile selecetd: %s '%mark)\n",
    "fig.text(0.1, 0.94, 'Median MeanFR RGC: %s, Q1: %s, Q3: %s '%(median_RGC, Q1_RGC, Q3_RGC))\n",
    "fig.text(0.1, 0.91, 'Median MeanFR EXCs: %s, Q1: %s, Q3: %s '%(median_EXC, Q1_EXC, Q3_EXC))\n",
    "fig.text(0.1, 0.87, 'Median MeanFR INHs: %s, Q1: %s, Q3: %s '%(median_INH, Q1_INH, Q3_INH))\n",
    "\n",
    "# Save figure \n",
    "#plt.savefig(data_dir + 'Figure1G_MeanFR' + '.pdf', dpi=200)\n",
    "\n",
    "df_MeanFR"
   ]
  },
  {
   "cell_type": "markdown",
   "id": "8efef77b",
   "metadata": {},
   "source": [
    "## 1G Pie Chart"
   ]
  },
  {
   "cell_type": "code",
   "execution_count": 12,
   "id": "64cd271e",
   "metadata": {},
   "outputs": [
    {
     "data": {
      "image/png": "[encoded data removed]",
      "text/plain": [
       "<Figure size 432x288 with 1 Axes>"
      ]
     },
     "metadata": {},
     "output_type": "display_data"
    }
   ],
   "source": [
    "# Pie Chart \n",
    "n_experiments = 11 \n",
    "\n",
    "n_RGCs_pooled= np.sum(RGCs_pooled_perExp)\n",
    "n_INHs_pooled = inh_idx_singleCl_GUIObservers.sum()\n",
    "n_EXCs_pooled = exc_idx_singleCl_GUIObservers_new.sum()\n",
    "\n",
    "labels = 'RGCs',  'Exc', 'Inh'\n",
    "sizes = [n_RGCs_pooled, n_EXCs_pooled, n_INHs_pooled]\n",
    "explode = [0.05]*len(labels)\n",
    "colors = [color_mpw, 'dimgray', 'deepskyblue']\n",
    "\n",
    "ax1 = plt.axes([0.6,0.6,0.15,0.15])\n",
    "ax1.pie(sizes, explode=explode, labels=labels, autopct='%1.1f%%', textprops={'fontsize': 6},\n",
    "        colors = colors, shadow=False, startangle=90)\n",
    "ax1.axis('equal')  \n",
    "fig.text(0.1, 0.1, 'Pooled %s Experiments '%(n_experiments))\n",
    "fig.text(0.1, 0.12, 'Total n RGC clusters: %s'%(n_RGCs_pooled))\n",
    "fig.text(0.1, 0.14, 'Total n EXC clusters: %s'%(n_EXCs_pooled))\n",
    "fig.text(0.1, 0.16, 'Total n INH clusters:  %s'%(n_INHs_pooled))\n",
    "fig.text(0.1, 0.18, 'Total clusters (E+I) : %s'%(n_INHs_pooled +n_EXCs_pooled))\n",
    "\n",
    "plt.tick_params('both',pad=1)\n",
    "\n",
    "# Save figure \n",
    "#plt.savefig(data_dir + 'Figure1G_Celltypes' + '.pdf', dpi=200)"
   ]
  },
  {
   "cell_type": "markdown",
   "id": "4717ec69",
   "metadata": {},
   "source": [
    "##  Write data as .xlsx file"
   ]
  },
  {
   "cell_type": "code",
   "execution_count": 13,
   "id": "3eb3aac9",
   "metadata": {},
   "outputs": [],
   "source": [
    "#  Write data as .xlsx\n",
    "sheet_name = 'fig1G'\n",
    "file_name =  data_dir + 'data_source_fig1G.xlsx'  \n",
    "with pd.ExcelWriter(file_name) as writer:\n",
    "    df_MeanFR.to_excel(writer,sheet_name=sheet_name,startcol=0)"
   ]
  },
  {
   "cell_type": "code",
   "execution_count": null,
   "id": "80549ff9",
   "metadata": {},
   "outputs": [],
   "source": []
  }
 ],
 "metadata": {
  "kernelspec": {
   "display_name": "Python 3 (ipykernel)",
   "language": "python",
   "name": "python3"
  },
  "language_info": {
   "codemirror_mode": {
    "name": "ipython",
    "version": 3
   },
   "file_extension": ".py",
   "mimetype": "text/x-python",
   "name": "python",
   "nbconvert_exporter": "python",
   "pygments_lexer": "ipython3",
   "version": "3.9.12"
  }
 },
 "nbformat": 4,
 "nbformat_minor": 5
}
