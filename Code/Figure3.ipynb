{
 "cells": [
  {
   "cell_type": "code",
   "execution_count": 1,
   "id": "47c0093f",
   "metadata": {},
   "outputs": [],
   "source": [
    "import numpy as np\n",
    "import matplotlib.pyplot as plt\n",
    "import os\n",
    "import scipy.ndimage as ndimage\n",
    "import scipy.ndimage as nd\n",
    "import scipy.interpolate as interpolate\n",
    "import seaborn as sns\n",
    "from matplotlib import rcParams\n",
    "import math\n",
    "import pandas as pd\n",
    "from scipy import stats\n",
    "%matplotlib inline"
   ]
  },
  {
   "cell_type": "code",
   "execution_count": 2,
   "id": "eeccfaaf",
   "metadata": {},
   "outputs": [],
   "source": [
    "rcParams['font.sans-serif'] = ['Arial'] \n",
    "rcParams['font.size'] = 6\n",
    "rcParams['pdf.fonttype'] = 42\n",
    "rcParams['ps.fonttype'] = 42\n",
    "\n",
    "rcParams['axes.linewidth'] = 0.5\n",
    "rcParams['lines.linewidth'] = 0.5\n",
    "rcParams['lines.markersize'] = 2.5\n",
    "rcParams['lines.markeredgewidth'] = 0.0\n",
    "\n",
    "rcParams['xtick.major.width'] = 0.5\n",
    "rcParams['ytick.major.width'] = 0.5\n",
    "\n",
    "to_inch = 0.393701\n",
    "fwidth_cm = 10 \n",
    "fheight_cm = 10. # cm\n",
    "spwidth_cm = 1.5\n",
    "spheight_cm = 3.\n",
    "w = spwidth_cm/fwidth_cm\n",
    "h = spheight_cm/fheight_cm\n",
    "fwidth_inch = fwidth_cm * to_inch\n",
    "fheight_inch = fheight_cm * to_inch\n",
    "\n",
    "cmap = plt.cm.magma\n",
    "\n",
    "lw_scatter = 0.4\n",
    "ticks_fontsize = 6. \n",
    "spines_thickness = 0.5\n",
    "ticks_width = spines_thickness\n",
    "s_scatter = 8  \n",
    "lw_hlines = 1.0\n",
    "lw_stats_bar = 0.6\n",
    "lw_scatter = 0.2\n",
    "alpha_scatter = 0.6\n",
    "width_bars = 1.5\n",
    "tick_length = 3.\n",
    "markersize_rasterdots = 1.5 #\n",
    "fs = 6. #7\n",
    "lw = 0.3\n",
    "\n",
    "color_mpw = np.array([242,101,34])/255\n",
    "color_su = [0.3,0.3,0.3]\n",
    "color_EXC = 'dimgray'\n",
    "color_INH = np.array([62,185,236.])/255 #\n",
    "    \n",
    "despine_offset = 2"
   ]
  },
  {
   "cell_type": "code",
   "execution_count": 3,
   "id": "3d4c15bd",
   "metadata": {},
   "outputs": [],
   "source": [
    "data_dir = '/.../Data/' "
   ]
  },
  {
   "cell_type": "code",
   "execution_count": 4,
   "id": "856e9f7c",
   "metadata": {},
   "outputs": [],
   "source": [
    "SimilarityIndex = np.load(data_dir + 'SimilarityIndex.npy', encoding='latin1', allow_pickle=True).item()\n",
    "SimilarityIndex_EXC = SimilarityIndex['EXC'] \n",
    "SimilarityIndex_INH = SimilarityIndex['INH'] \n",
    "mask_EXC = SimilarityIndex['mask_SLSD_EXC']  \n",
    "mask_INH = SimilarityIndex['mask_SLSD_INH'] \n",
    "SimilarityIndex_all = SimilarityIndex['all'] \n",
    "Fig2_Data = np.load(data_dir + 'Fig2_Data.npy', encoding='latin1', allow_pickle=True).item()\n",
    "Efficacy = Fig2_Data['Efficacy'] \n",
    "efficacy_all = Efficacy['all']\n",
    "Efficacy_EXC = efficacy_all[mask_EXC] \n",
    "Efficacy_INH = efficacy_all[mask_INH] \n",
    "#%% 3 C) \n",
    "lim_eff_cont = [0.1, 100]  \n",
    "lim_Similarity = [-0.1, 1] \n",
    "x_ticks = [0., 0.5, 1.]\n",
    "y_ticks = [0.1, 1, 10, 100]\n",
    "\n",
    "tick_width = 0.5\n",
    "\n",
    "w = 0.15  \n",
    "h = 0.15 \n",
    "\n",
    "ms = 2  "
   ]
  },
  {
   "cell_type": "markdown",
   "id": "78aa0b1b",
   "metadata": {},
   "source": [
    "## Plot panel 3 C"
   ]
  },
  {
   "cell_type": "code",
   "execution_count": 5,
   "id": "8682cbe3",
   "metadata": {},
   "outputs": [
    {
     "data": {
      "text/plain": [
       "Text(0.05, 0.35, 'selected_mask for cluster filter SL SD responses')"
      ]
     },
     "execution_count": 5,
     "metadata": {},
     "output_type": "execute_result"
    },
    {
     "data": {
      "image/png": "[encoded data removed]",
      "text/plain": [
       "<Figure size 283.465x283.465 with 1 Axes>"
      ]
     },
     "metadata": {
      "needs_background": "light"
     },
     "output_type": "display_data"
    }
   ],
   "source": [
    "fig = plt.figure()\n",
    "plt.clf()\n",
    "fig.set_size_inches(fwidth_inch, fheight_inch)\n",
    "# Efficacy Similarity\n",
    "ax_3C = plt.axes([0.2, 0.1, w, h])\n",
    "ax_3C.tick_params(labelsize=fs)  #\n",
    "ax_3C.tick_params(length=tick_length)\n",
    "ax_3C.tick_params(labelsize=ticks_fontsize)\n",
    "plt.plot(SimilarityIndex_EXC, Efficacy_EXC, 'o', color=color_EXC, label='EXC', markersize=ms)\n",
    "plt.plot(SimilarityIndex_INH, Efficacy_INH, 'v', color=color_INH, label='INH', markersize=ms)   \n",
    "ax_3C.set_xlabel('Similarity r=(rsl+rsd+rNM+rPSM+rChecker)/5', labelpad=0, fontsize=fs)\n",
    "ax_3C.set_ylabel('Efficacy', labelpad=0, fontsize=fs)\n",
    "plt.xlim(lim_Similarity)\n",
    "plt.ylim(lim_eff_cont)\n",
    "ax_3C.set_yscale('log')\n",
    "ax_3C.set_xticks(x_ticks)\n",
    "ax_3C.set_xticklabels(x_ticks)\n",
    "ax_3C.set_yticks(y_ticks)\n",
    "ax_3C.set_yticklabels(y_ticks)\n",
    "sns.despine(ax=ax_3C, offset=2, trim=True)\n",
    "\n",
    "slope_EXC, intercept_EXC, r_value_EXC, p_value_EXC, std_err_EXC = stats.linregress(SimilarityIndex_EXC, np.log(Efficacy_EXC))\n",
    "slope_INH, intercept_INH, r_value_INH, p_value_INH, std_err_INH = stats.linregress(SimilarityIndex_INH, np.log(Efficacy_INH))\n",
    "plt.tick_params('both', pad=1) \n",
    "plt.figtext(0.05, 0.3, 'Similarity EXC r= %s | p= %s \\n INH r= %s | p= %s '%(r_value_EXC.round(3), p_value_EXC, r_value_INH.round(3), p_value_INH ), fontsize=4)\n",
    "plt.figtext(0.05, 0.35, 'selected_mask for cluster filter SL SD responses', fontsize=4)"
   ]
  },
  {
   "cell_type": "markdown",
   "id": "8c99b8f7",
   "metadata": {},
   "source": [
    "## Plot panel 3 B"
   ]
  },
  {
   "cell_type": "code",
   "execution_count": 6,
   "id": "0d79a80e",
   "metadata": {},
   "outputs": [
    {
     "name": "stdout",
     "output_type": "stream",
     "text": [
      "85 / 85 EXC Pairs | 29 / 29 INH pairs above Thr \n",
      "p value E vs I: 0.118\n"
     ]
    },
    {
     "data": {
      "image/png": "[encoded data removed]",
      "text/plain": [
       "<Figure size 432x288 with 1 Axes>"
      ]
     },
     "metadata": {
      "needs_background": "light"
     },
     "output_type": "display_data"
    }
   ],
   "source": [
    "# 3 B)  Similarity \n",
    "print('%s / %s EXC Pairs | %s / %s INH pairs above Thr '%(mask_EXC.sum(),len(Efficacy_EXC),  mask_INH.sum(), len(Efficacy_INH) ))\n",
    "Similarity_EXC = SimilarityIndex_EXC\n",
    "Similarity_INH = SimilarityIndex_INH\n",
    "\n",
    "stas, p_Similarity_EI = stats.ranksums(Similarity_EXC, Similarity_INH )\n",
    "print(f'p value E vs I: {p_Similarity_EI:.3f}')\n",
    "\n",
    "lw_scatter = 0.4\n",
    "spines_thickness = 0.5\n",
    "ticks_width = spines_thickness\n",
    "ticks_fontsize = 6. \n",
    "\n",
    "s_scatter = 8\n",
    "lw_hlines = 1.0\n",
    "lw_stats_bar = 0.6\n",
    "ylim_percentage = 80.\n",
    "s_scatter = 25\n",
    "despine_offset = 2\n",
    "\n",
    "aa = np.ones(len(Similarity_EXC))*1 \n",
    "bb = np.ones(len(Similarity_INH))*3\n",
    "\n",
    "ax_3B = plt.axes([0.7,0.6, 0.15, 0.17])\n",
    "ax_3B.tick_params(length=tick_length)\n",
    "ax_3B.tick_params(labelsize=ticks_fontsize)  \n",
    "ax_3B.tick_params(width=ticks_width) \n",
    "ax_3B.spines['left'].set_linewidth(spines_thickness)  \n",
    "ax_3B.spines['right'].set_visible(False)\n",
    "ax_3B.spines['top'].set_visible(False)\n",
    "plt.scatter(aa, np.array(Similarity_EXC),  s=s_scatter, facecolors='none', edgecolors=color_EXC, linewidths=lw_scatter) #\n",
    "plt.scatter(bb, np.array(Similarity_INH),  s=s_scatter, facecolors='none', edgecolors=color_INH, linewidths=lw_scatter) \n",
    "positions_x = [1, 3]\n",
    "ax_3B.hlines(y=np.mean(Similarity_EXC), xmin=0.6, xmax=1.4, linewidth=lw_hlines, color=color_EXC)\n",
    "ax_3B.hlines(y=np.mean(Similarity_INH), xmin=2.6, xmax=3.4, linewidth=lw_hlines, color=color_INH)\n",
    "ax_3B.set_ylabel('Similarity Index ', fontsize=fs)\n",
    "ax_3B.set_ylim([-0.1,1])  \n",
    "plt.yticks([0, 0.5, 1], ['0',  '0.5', '1'] )  \n",
    "     \n",
    "sns.despine(ax = ax_3B, offset=despine_offset , trim=True)  \n",
    "plt.xticks([1,3],['Exc','Inh'])\n",
    "\n",
    "plt.figtext(0.6, 0.85, 'stats.ranksums p={:.3f}'.format(p_Similarity_EI) , fontsize=4)\n",
    "plt.figtext(0.5, 0.5, 'Mean Similarity Idx EXC: %s \\n +/- std %s'%(Similarity_EXC.mean(), Similarity_EXC.std() ), fontsize=4)\n",
    "plt.figtext(0.5, 0.42, 'Mean Similarity Idx EXC: %s \\n +/- std %s'%(Similarity_INH.mean(), Similarity_INH.std()), fontsize=4)\n",
    "\n",
    "plt.tick_params('both',pad=1) "
   ]
  },
  {
   "cell_type": "code",
   "execution_count": 7,
   "id": "06a91423",
   "metadata": {},
   "outputs": [],
   "source": [
    "quartiles = [0.25,0.5,0.75]\n",
    "Q1_EXC, median_EXC, Q3_EXC = np.quantile(Similarity_EXC, quartiles)\n",
    "Q1_EXC = np.round(Q1_EXC,2)\n",
    "Q3_EXC = np.round(Q3_EXC,2)\n",
    "median_EXC = np.round(median_EXC,2)\n",
    "\n",
    "quartiles = [0.25,0.5,0.75]\n",
    "Q1_INH, median_INH, Q3_INH = np.quantile(Similarity_INH, quartiles)\n",
    "Q1_INH = np.round(Q1_INH,2)\n",
    "Q3_INH = np.round(Q3_INH,2)\n",
    "median_INH = np.round(median_INH,2)"
   ]
  },
  {
   "cell_type": "code",
   "execution_count": 8,
   "id": "933e663f",
   "metadata": {},
   "outputs": [],
   "source": [
    "# Create data frames\n",
    "inh = len(Similarity_INH)*['INH']\n",
    "exc = len(Similarity_EXC)*['EXC']\n",
    "cell_types = inh + exc\n",
    "\n",
    "Similarity_all = list(Similarity_INH) + list(Similarity_EXC)\n",
    "\n",
    "df_Similarity = pd.DataFrame()\n",
    "df_Similarity['Similarity']  = Similarity_all\n",
    "df_Similarity['cell_types']  = cell_types\n",
    "\n",
    "colors = [ color_INH, color_EXC]\n",
    "\n",
    "x_labels = [0, 0.5, 1]\n",
    "x_positions = [0, 0.5, 1]\n",
    "y_labels = [0, 0.5, 1]\n",
    "y_positions =  [0, 0.5, 1]"
   ]
  },
  {
   "cell_type": "markdown",
   "id": "d4030666",
   "metadata": {},
   "source": [
    "## Plot panel 3 B Cumulative Distribution"
   ]
  },
  {
   "cell_type": "code",
   "execution_count": 9,
   "id": "3e5112c6",
   "metadata": {},
   "outputs": [
    {
     "data": {
      "text/plain": [
       "Text(0.5, 0.17, 'Median Similarity INHs: 0.36, Q1: 0.24, Q3: 0.56 ')"
      ]
     },
     "execution_count": 9,
     "metadata": {},
     "output_type": "execute_result"
    },
    {
     "data": {
      "image/png": "[encoded data removed]",
      "text/plain": [
       "<Figure size 432x288 with 1 Axes>"
      ]
     },
     "metadata": {
      "needs_background": "light"
     },
     "output_type": "display_data"
    }
   ],
   "source": [
    "# 5B contribution cum hist\n",
    "ax_CumHist = plt.axes([0.7,0.3, 0.15, 0.075])\n",
    "ax_CumHist.tick_params(length=tick_length)\n",
    "ax_CumHist.spines['right'].set_visible(False)\n",
    "ax_CumHist.spines['top'].set_visible(False)\n",
    "\n",
    "sns.ecdfplot(data=df_Similarity, x=\"Similarity\", hue=\"cell_types\", stat = 'proportion' ,  palette=colors, legend=False)\n",
    "\n",
    "ax_CumHist.set_xticks(x_positions)\n",
    "ax_CumHist.set_xticklabels(x_labels)\n",
    "ax_CumHist.set_yticks(y_positions)\n",
    "ax_CumHist.set_yticklabels(y_labels)\n",
    "\n",
    "mark = 0.5\n",
    "ax_CumHist.hlines(y= mark, xmin= median_EXC, xmax=median_INH, linewidth=lw, linestyles='dashed', color='k')\n",
    "ax_CumHist.set_xlim([0, 1])\n",
    "sns.despine(ax= ax_CumHist, offset=despine_offset , trim=True)\n",
    "\n",
    "plt.tick_params('both', pad=1)  \n",
    "\n",
    "fig.text(0.5, 0.2, 'Median Similarity EXCs: %s, Q1: %s, Q3: %s '%(median_EXC, Q1_EXC, Q3_EXC), fontsize=4)\n",
    "fig.text(0.5, 0.17, 'Median Similarity INHs: %s, Q1: %s, Q3: %s '%(median_INH, Q1_INH, Q3_INH), fontsize=4)"
   ]
  },
  {
   "cell_type": "code",
   "execution_count": 10,
   "id": "1531c770",
   "metadata": {},
   "outputs": [
    {
     "data": {
      "text/html": [
       "<div>\n",
       "<style scoped>\n",
       "    .dataframe tbody tr th:only-of-type {\n",
       "        vertical-align: middle;\n",
       "    }\n",
       "\n",
       "    .dataframe tbody tr th {\n",
       "        vertical-align: top;\n",
       "    }\n",
       "\n",
       "    .dataframe thead th {\n",
       "        text-align: right;\n",
       "    }\n",
       "</style>\n",
       "<table border=\"1\" class=\"dataframe\">\n",
       "  <thead>\n",
       "    <tr style=\"text-align: right;\">\n",
       "      <th></th>\n",
       "      <th>SimilarityIndex_all</th>\n",
       "      <th>efficacy_all</th>\n",
       "      <th>mask_EXC_SNRresponse</th>\n",
       "    </tr>\n",
       "  </thead>\n",
       "  <tbody>\n",
       "    <tr>\n",
       "      <th>0</th>\n",
       "      <td>0.063160</td>\n",
       "      <td>1.815268</td>\n",
       "      <td>False</td>\n",
       "    </tr>\n",
       "    <tr>\n",
       "      <th>1</th>\n",
       "      <td>0.081397</td>\n",
       "      <td>7.347487</td>\n",
       "      <td>False</td>\n",
       "    </tr>\n",
       "    <tr>\n",
       "      <th>2</th>\n",
       "      <td>0.071167</td>\n",
       "      <td>3.088331</td>\n",
       "      <td>False</td>\n",
       "    </tr>\n",
       "    <tr>\n",
       "      <th>3</th>\n",
       "      <td>0.405637</td>\n",
       "      <td>4.977648</td>\n",
       "      <td>False</td>\n",
       "    </tr>\n",
       "    <tr>\n",
       "      <th>4</th>\n",
       "      <td>0.159690</td>\n",
       "      <td>16.350412</td>\n",
       "      <td>False</td>\n",
       "    </tr>\n",
       "    <tr>\n",
       "      <th>...</th>\n",
       "      <td>...</td>\n",
       "      <td>...</td>\n",
       "      <td>...</td>\n",
       "    </tr>\n",
       "    <tr>\n",
       "      <th>327</th>\n",
       "      <td>0.134572</td>\n",
       "      <td>32.721791</td>\n",
       "      <td>False</td>\n",
       "    </tr>\n",
       "    <tr>\n",
       "      <th>328</th>\n",
       "      <td>0.118865</td>\n",
       "      <td>18.076064</td>\n",
       "      <td>False</td>\n",
       "    </tr>\n",
       "    <tr>\n",
       "      <th>329</th>\n",
       "      <td>0.131424</td>\n",
       "      <td>30.115754</td>\n",
       "      <td>False</td>\n",
       "    </tr>\n",
       "    <tr>\n",
       "      <th>330</th>\n",
       "      <td>0.113243</td>\n",
       "      <td>5.218658</td>\n",
       "      <td>False</td>\n",
       "    </tr>\n",
       "    <tr>\n",
       "      <th>331</th>\n",
       "      <td>0.294234</td>\n",
       "      <td>5.236960</td>\n",
       "      <td>False</td>\n",
       "    </tr>\n",
       "  </tbody>\n",
       "</table>\n",
       "<p>332 rows × 3 columns</p>\n",
       "</div>"
      ],
      "text/plain": [
       "     SimilarityIndex_all  efficacy_all  mask_EXC_SNRresponse\n",
       "0               0.063160      1.815268                 False\n",
       "1               0.081397      7.347487                 False\n",
       "2               0.071167      3.088331                 False\n",
       "3               0.405637      4.977648                 False\n",
       "4               0.159690     16.350412                 False\n",
       "..                   ...           ...                   ...\n",
       "327             0.134572     32.721791                 False\n",
       "328             0.118865     18.076064                 False\n",
       "329             0.131424     30.115754                 False\n",
       "330             0.113243      5.218658                 False\n",
       "331             0.294234      5.236960                 False\n",
       "\n",
       "[332 rows x 3 columns]"
      ]
     },
     "execution_count": 10,
     "metadata": {},
     "output_type": "execute_result"
    }
   ],
   "source": [
    "df_Fig3 = pd.DataFrame()\n",
    "df_Fig3['SimilarityIndex_all']  = SimilarityIndex_all\n",
    "df_Fig3['efficacy_all']  = efficacy_all\n",
    "df_Fig3['mask_EXC_SNRresponse']  = mask_EXC\n",
    "df_Fig3['mask_EXC_SNRresponse']  = mask_INH\n",
    "df_Fig3"
   ]
  },
  {
   "cell_type": "code",
   "execution_count": 11,
   "id": "86b92a24",
   "metadata": {},
   "outputs": [],
   "source": [
    "# Write Data as .xlsx\n",
    "sheet_name = 'fig3'\n",
    "file_name = data_dir + 'data_source_fig3.xlsx'\n",
    "with pd.ExcelWriter(file_name) as writer: \n",
    "    df_Fig3.to_excel(writer, sheet_name=sheet_name,startcol=0)"
   ]
  }
 ],
 "metadata": {
  "kernelspec": {
   "display_name": "Python 3 (ipykernel)",
   "language": "python",
   "name": "python3"
  },
  "language_info": {
   "codemirror_mode": {
    "name": "ipython",
    "version": 3
   },
   "file_extension": ".py",
   "mimetype": "text/x-python",
   "name": "python",
   "nbconvert_exporter": "python",
   "pygments_lexer": "ipython3",
   "version": "3.9.12"
  }
 },
 "nbformat": 4,
 "nbformat_minor": 5
}
