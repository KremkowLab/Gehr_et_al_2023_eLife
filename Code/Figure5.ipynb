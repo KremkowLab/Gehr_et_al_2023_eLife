{
 "cells": [
  {
   "cell_type": "code",
   "execution_count": 1,
   "id": "4fa161c5",
   "metadata": {},
   "outputs": [],
   "source": [
    "import numpy as np\n",
    "import matplotlib.pyplot as plt\n",
    "import os\n",
    "import scipy.ndimage as ndimage\n",
    "import scipy.ndimage as nd\n",
    "import scipy.interpolate as interpolate\n",
    "import seaborn as sns\n",
    "from matplotlib import rcParams\n",
    "import math\n",
    "import pandas as pd\n",
    "from scipy import stats\n",
    "%matplotlib inline"
   ]
  },
  {
   "cell_type": "code",
   "execution_count": 2,
   "id": "a35b9117",
   "metadata": {},
   "outputs": [],
   "source": [
    "rcParams['font.sans-serif'] = ['Arial'] \n",
    "rcParams['font.size'] = 6 #7\n",
    "rcParams['pdf.fonttype'] = 42\n",
    "rcParams['ps.fonttype'] = 42\n",
    "\n",
    "rcParams['axes.linewidth'] = 0.5\n",
    "rcParams['lines.linewidth'] = 0.5\n",
    "rcParams['lines.markersize'] = 2.5\n",
    "rcParams['lines.markeredgewidth'] = 0.0\n",
    "\n",
    "rcParams['xtick.major.width'] = 0.5\n",
    "rcParams['ytick.major.width'] = 0.5\n",
    "\n",
    "to_inch = 0.393701\n",
    "fwidth_cm = 10 \n",
    "fheight_cm = 10. # cm\n",
    "\n",
    "spwidth_cm = 1.5\n",
    "spheight_cm = 3.\n",
    "\n",
    "\n",
    "w = spwidth_cm/fwidth_cm\n",
    "h = spheight_cm/fheight_cm\n",
    "\n",
    "fwidth_inch = fwidth_cm * to_inch\n",
    "fheight_inch = fheight_cm * to_inch\n",
    "\n",
    "cmap = plt.cm.magma\n",
    "\n",
    "lw_scatter = 0.4\n",
    "ticks_fontsize = 6. \n",
    "spines_thickness = 0.5\n",
    "ticks_width = spines_thickness\n",
    "s_scatter = 8  # 10\n",
    "lw_hlines = 1.0\n",
    "lw_stats_bar = 0.6\n",
    "lw_scatter = 0.2\n",
    "alpha_scatter = 0.6\n",
    "width_bars = 1.5\n",
    "tick_length = 3.\n",
    "markersize_rasterdots = 1.5 \n",
    "fs = 6.\n",
    "lw = 0.3 \n",
    "ms = 1.5 \n",
    "\n",
    "color_mpw = np.array([242,101,34])/255\n",
    "color_su = [0.3,0.3,0.3] \n",
    "color_EXC = 'dimgray' \n",
    "color_INH = np.array([62,185,236.])/255 \n",
    "    \n",
    "despine_offset = 2"
   ]
  },
  {
   "cell_type": "code",
   "execution_count": 3,
   "id": "bef12db3",
   "metadata": {},
   "outputs": [],
   "source": [
    "data_dir = '/.../Data/' "
   ]
  },
  {
   "cell_type": "markdown",
   "id": "9ed62687",
   "metadata": {},
   "source": [
    "## Plot panel 5 B"
   ]
  },
  {
   "cell_type": "code",
   "execution_count": 4,
   "id": "a9a42ec5",
   "metadata": {},
   "outputs": [
    {
     "name": "stdout",
     "output_type": "stream",
     "text": [
      "305\n",
      "0.0003469450722898286\n"
     ]
    },
    {
     "data": {
      "text/plain": [
       "Text(1, 80.0, '0.0003469450722898286')"
      ]
     },
     "execution_count": 4,
     "metadata": {},
     "output_type": "execute_result"
    },
    {
     "data": {
      "image/png": "[encoded data removed]",
      "text/plain": [
       "<Figure size 283.465x283.465 with 1 Axes>"
      ]
     },
     "metadata": {
      "needs_background": "light"
     },
     "output_type": "display_data"
    }
   ],
   "source": [
    "# 5B) Contribution \n",
    "Data_Figure5 = np.load(data_dir + 'Data_Figure5.npy', encoding='latin1', allow_pickle=True).item()\n",
    "Contribution = Data_Figure5['Contribution'] \n",
    "Mean_FR_NM_pairs = Data_Figure5['Mean_FR_NM_pairs']\n",
    "exc_idx = Data_Figure5['mask_EXC'] \n",
    "inh_idx = Data_Figure5['mask_INH']\n",
    "\n",
    "Contribution_EXC = Contribution[exc_idx]\n",
    "Contribution_INH = Contribution[inh_idx]\n",
    "\n",
    "contributions = list(Contribution_INH) + list(Contribution_EXC)\n",
    "\n",
    "inh = len(Contribution_INH)*['INH']\n",
    "exc = len(Contribution_EXC)*['EXC']\n",
    "cell_types = inh + exc\n",
    "print(len(cell_types))\n",
    "\n",
    "colors = [color_EXC, color_INH]\n",
    "\n",
    "aa = np.ones(len(Contribution_EXC))*1 \n",
    "bb = np.ones(len(Contribution_INH))*3\n",
    "\n",
    "stats_tmp= stats.ranksums(Contribution_EXC, Contribution_INH)\n",
    "print(stats_tmp[1])\n",
    "\n",
    "ylim_percentage = 80.\n",
    "\n",
    "fig = plt.figure()\n",
    "plt.clf()\n",
    "fig.set_size_inches(fwidth_inch,fheight_inch)\n",
    "\n",
    "ax_5B = plt.axes([0.1,0.1, 0.12, 0.18])\n",
    "ax_5B.tick_params(length=tick_length)\n",
    "ax_5B.tick_params(labelsize=ticks_fontsize)  # ticks size font\n",
    "plt.scatter(aa, Contribution_EXC,  s=8, facecolors='none', edgecolors='dimgray', linewidths=lw_scatter) #\n",
    "plt.scatter(bb, Contribution_INH,  s=8, facecolors='none', edgecolors='deepskyblue', linewidths=lw_scatter) \n",
    "positions_x = [1, 3]\n",
    "labels_x = ['E',  'I']\n",
    "ax_5B.hlines(y=np.mean(Contribution_EXC), xmin=0.7, xmax=1.3, linewidth=lw_hlines, color='dimgray')\n",
    "ax_5B.hlines(y=np.mean(Contribution_INH), xmin=2.7, xmax=3.3, linewidth=lw_hlines, color='deepskyblue')\n",
    "ax_5B.set_yticks([0,35,70])\n",
    "ax_5B.set_ylabel('Efficacy (%)') \n",
    "ax_5B.set_xticks(positions_x )  \n",
    "ax_5B.set_xticklabels(labels_x, fontsize=2)\n",
    "sns.despine(offset=despine_offset , trim=True) \n",
    "ax_5B.hlines(y=ylim_percentage-5, xmin=1., xmax=3., linewidth=lw_stats_bar, color='k')\n",
    "ax_5B.vlines(x=1, ymin=ylim_percentage-10, ymax=ylim_percentage-5, linewidth=lw_stats_bar, color='k')  \n",
    "ax_5B.vlines(x=3, ymin=ylim_percentage-10, ymax=ylim_percentage-5, linewidth=lw_stats_bar, color='k') \n",
    "ax_5B.text(1, ylim_percentage, str(stats_tmp[1])) "
   ]
  },
  {
   "cell_type": "markdown",
   "id": "85379b78",
   "metadata": {},
   "source": [
    "## Plot panel 5 B Cumulative Distribution"
   ]
  },
  {
   "cell_type": "code",
   "execution_count": 6,
   "id": "ee30d786",
   "metadata": {},
   "outputs": [
    {
     "data": {
      "text/plain": [
       "[<matplotlib.axis.XTick at 0x7fee21212310>,\n",
       " <matplotlib.axis.XTick at 0x7fee21172e50>,\n",
       " <matplotlib.axis.XTick at 0x7fee21253d30>,\n",
       " <matplotlib.axis.XTick at 0x7fee21233880>]"
      ]
     },
     "execution_count": 6,
     "metadata": {},
     "output_type": "execute_result"
    },
    {
     "data": {
      "image/png": "[encoded data removed]",
      "text/plain": [
       "<Figure size 432x288 with 1 Axes>"
      ]
     },
     "metadata": {
      "needs_background": "light"
     },
     "output_type": "display_data"
    }
   ],
   "source": [
    "# 5 B) cumulative Dist \n",
    "ax_5B2 = plt.axes([0.4,0.1, 0.1, 0.15])\n",
    "ax_5B2.tick_params(length=tick_length)\n",
    "ax_5B2.spines['right'].set_visible(False)\n",
    "ax_5B2.spines['top'].set_visible(False)\n",
    "df_Contribution = pd.DataFrame()\n",
    "df_Contribution['Contribution']  = contributions\n",
    "df_Contribution['cell_types']  = cell_types\n",
    "sns.ecdfplot(data=df_Contribution, x=\"Contribution\", hue=\"cell_types\", stat = 'proportion' ,  palette=colors, legend=False)\n",
    "x_labels = [0, 25,50, 75]\n",
    "x_positions = [0, 25,50, 75]\n",
    "y_labels = [0, 0.5, 1]\n",
    "y_positions =  [0, 0.5, 1]\n",
    "ax_5B2.set_yticks(y_positions)\n",
    "ax_5B2.set_yticklabels(y_labels)\n",
    "sns.despine(ax= ax_5B2, offset=despine_offset , trim=False)\n",
    "ax_5B2.set_xticks(x_positions)"
   ]
  },
  {
   "cell_type": "markdown",
   "id": "c5b8c75f",
   "metadata": {},
   "source": [
    "## Plot panel 5 C"
   ]
  },
  {
   "cell_type": "code",
   "execution_count": 7,
   "id": "cc2015aa",
   "metadata": {},
   "outputs": [
    {
     "data": {
      "text/plain": [
       "Text(0.5, 0.35, 'clusters filtered SL SD responses')"
      ]
     },
     "execution_count": 7,
     "metadata": {},
     "output_type": "execute_result"
    },
    {
     "data": {
      "image/png": "[encoded data removed]",
      "text/plain": [
       "<Figure size 432x288 with 1 Axes>"
      ]
     },
     "metadata": {
      "needs_background": "light"
     },
     "output_type": "display_data"
    }
   ],
   "source": [
    "# 5 C) Contribution vs Similarity\n",
    "SimilarityIndex = np.load(data_dir + 'SimilarityIndex.npy', encoding='latin1', allow_pickle=True).item()\n",
    "SimilarityIndex_EXC = SimilarityIndex['EXC'] \n",
    "SimilarityIndex_INH = SimilarityIndex['INH'] \n",
    "mask_SLSD_EXC = SimilarityIndex['mask_SLSD_EXC'] \n",
    "mask_SLSD_INH = SimilarityIndex['mask_SLSD_INH'] \n",
    "SimilarityIndex_all = SimilarityIndex['all'] \n",
    "Contribution_EXC_SNRSLSD = Contribution[mask_SLSD_EXC]\n",
    "Contribution_INH_SNRSLSD = Contribution[mask_SLSD_INH]\n",
    "\n",
    "lim_eff_cont = [0.1, 100]   #y \n",
    "lim_Similarity = [-0.1, 1]  # x\n",
    "\n",
    "x_ticks = [0., 0.5, 1.]\n",
    "y_ticks = [0.1, 1, 10, 100]\n",
    "\n",
    "tick_width = 0.5\n",
    "\n",
    "w = 0.15  # 0.2\n",
    "h = 0.15 # 0.2\n",
    "ms = 2  # markersize\n",
    "\n",
    "ax_3C = plt.axes([0.7, 0.1, w, h])\n",
    "ax_3C.tick_params(labelsize=fs)  #\n",
    "ax_3C.tick_params(length=tick_length)\n",
    "ax_3C.tick_params(labelsize=ticks_fontsize)\n",
    "plt.plot(SimilarityIndex_EXC, Contribution_EXC_SNRSLSD, 'o', color=color_EXC, label='EXC', markersize=ms)\n",
    "plt.plot(SimilarityIndex_INH, Contribution_INH_SNRSLSD, 'v', color=color_INH, label='INH', markersize=ms)   \n",
    "ax_3C.set_xlabel('Similarity r=(rsl+rsd+rNM+rPSM+rChecker)/5', labelpad=0)\n",
    "ax_3C.set_ylabel('Efficacy', labelpad=0)\n",
    "plt.xlim(lim_Similarity)\n",
    "plt.ylim(lim_eff_cont)\n",
    "ax_3C.set_yscale('log')\n",
    "ax_3C.set_xticks(x_ticks)\n",
    "ax_3C.set_xticklabels(x_ticks)\n",
    "ax_3C.set_yticks(y_ticks)\n",
    "ax_3C.set_yticklabels(y_ticks)\n",
    "\n",
    "sns.despine(ax=ax_3C, offset=2, trim=True)\n",
    "\n",
    "slope_EXC, intercept_EXC, r_value_EXC, p_value_EXC, std_err_EXC = stats.linregress(SimilarityIndex_EXC, np.log(Contribution_EXC_SNRSLSD))\n",
    "slope_INH, intercept_INH, r_value_INH, p_value_INH, std_err_INH = stats.linregress(SimilarityIndex_INH, np.log(Contribution_INH_SNRSLSD))\n",
    "\n",
    "plt.tick_params('both', pad=1)  \n",
    "\n",
    "\n",
    "plt.figtext(0.5, 0.3, 'Similarity EXC r= %s | p= %s \\n INH r= %s | p= %s '%(r_value_EXC.round(3), p_value_EXC, r_value_INH.round(3), p_value_INH ))\n",
    "plt.figtext(0.5, 0.35, 'clusters filtered SL SD responses')\n"
   ]
  },
  {
   "cell_type": "markdown",
   "id": "6a15c5b3",
   "metadata": {},
   "source": [
    "## Plot panel 5 D"
   ]
  },
  {
   "cell_type": "code",
   "execution_count": 11,
   "id": "580ed54e",
   "metadata": {},
   "outputs": [
    {
     "name": "stdout",
     "output_type": "stream",
     "text": [
      "[[ 1.         -0.15078591]\n",
      " [-0.15078591  1.        ]]\n",
      "[[ 1.         -0.48386413]\n",
      " [-0.48386413  1.        ]]\n"
     ]
    },
    {
     "data": {
      "text/plain": [
       "Text(0.01, 0.39, 'stas.linregress INH r -0.48386 | p 0.00000118')"
      ]
     },
     "execution_count": 11,
     "metadata": {},
     "output_type": "execute_result"
    },
    {
     "data": {
      "image/png": "[encoded data removed]",
      "text/plain": [
       "<Figure size 432x288 with 1 Axes>"
      ]
     },
     "metadata": {
      "needs_background": "light"
     },
     "output_type": "display_data"
    }
   ],
   "source": [
    "# 5 D) Contribution vs Mean FR (total recording))\n",
    "x_EXC = Contribution_EXC  \n",
    "y_EXC = Mean_FR_NM_pairs[exc_idx] \n",
    "\n",
    "x_INH = Contribution_INH  \n",
    "y_INH =  Mean_FR_NM_pairs[inh_idx]\n",
    "\n",
    "s_scatter = 0.5\n",
    "\n",
    "x_lim = [0, 100]\n",
    "y_lim = [-1, 30]\n",
    "\n",
    "x_lim_log = [0.1, 100]\n",
    "x_ticks_log = [0.1, 1, 10, 100]\n",
    "ax_5D_NM = plt.axes([0.2,0.6,0.15,0.15]) \n",
    "ax_5D_NM.tick_params(length=tick_length)\n",
    "ax_5D_NM.spines['right'].set_visible(False)\n",
    "ax_5D_NM.spines['top'].set_visible(False)\n",
    "ax_5D_NM.tick_params(length=tick_length)\n",
    "plt.scatter(x_EXC, y_EXC, s=s_scatter, color=color_EXC)\n",
    "plt.plot(np.unique(x_EXC), np.poly1d(np.polyfit(x_EXC, y_EXC, 1))(np.unique(x_EXC)), color='gray')  # add line of best fit\n",
    "plt.scatter(x_INH, y_INH, s=s_scatter,color=color_INH)\n",
    "plt.plot(np.unique(x_INH), np.poly1d(np.polyfit(x_INH, y_INH, 1))(np.unique(x_INH)), color='blue') \n",
    "ax_5D_NM.set_xlabel('Contribution (%)')\n",
    "ax_5D_NM.set_ylabel('Mean FR (spikes/s) NM')\n",
    "ax_5D_NM.set_xlim(x_lim_log)\n",
    "ax_5D_NM.set_ylim(y_lim)\n",
    "ax_5D_NM.set_xscale('log')\n",
    "ax_5D_NM.set_xticks(x_ticks_log)\n",
    "ax_5D_NM.set_xticklabels(x_ticks_log)\n",
    "ax_5D_NM.set_yticks([0, 10, 20, 30])\n",
    "ax_5D_NM.set_yticklabels([0, 10, 20, 30])\n",
    "sns.despine(ax= ax_5D_NM, offset=despine_offset, trim=True)\n",
    "\n",
    "slope, intercept, r_value_EXC_log, p_value_EXC_log, std_err = stats.linregress(np.log(x_EXC), y_EXC)\n",
    "print(np.corrcoef(np.log(x_EXC), y_EXC))\n",
    "slope, intercept, r_value_INH_log, p_value_INH_log, std_err = stats.linregress(np.log(x_INH), y_INH)\n",
    "print(np.corrcoef(np.log(x_INH), y_INH))\n",
    "\n",
    "plt.figtext(0.05, 0.8, 'Mean FR during NaturalMovie stim')\n",
    "fig.text(0.01, 0.45 , 'Correlation of Contribution vs Mean FR to NM')\n",
    "fig.text(0.01, 0.42,'stas.linregress EXC r {:.5f} | p {:.8f}'.format(r_value_EXC_log, p_value_EXC_log) )\n",
    "fig.text(0.01, 0.39,'stas.linregress INH r {:.5f} | p {:.8f}'.format(r_value_INH_log, p_value_INH_log) )\n"
   ]
  },
  {
   "cell_type": "code",
   "execution_count": null,
   "id": "ed2fc2d3",
   "metadata": {},
   "outputs": [],
   "source": [
    "# write data as .xlsx\n",
    "df_Figure5 = pd.DataFrame()\n",
    "df_Figure5['Contribution'] = Contribution\n",
    "df_Figure5['Mean_FR_NM_pairs'] = Mean_FR_NM_pairs\n",
    "df_Figure5['SimilarityIndex_all'] = SimilarityIndex_all\n",
    "\n",
    "df_Figure5['EXC'] = exc_idx\n",
    "df_Figure5['INH'] = inh_idx\n",
    "\n",
    "df_Figure5['mask_SLSD_EXC'] = mask_SLSD_EXC\n",
    "df_Figure5['mask_SLSD_INH'] = mask_SLSD_INH\n",
    "\n",
    "\n",
    "#%%  Store Similarity Data\n",
    "sheet_name = 'fig5'\n",
    "file_name = data_dir + 'data_source_fig5.xlsx'\n",
    "writer = pd.ExcelWriter(file_name) #,mode=\"a\")\n",
    "\n",
    "with pd.ExcelWriter(file_name) as writer:\n",
    "    df_Figure5.to_excel(writer, sheet_name=sheet_name,startcol=0)\n",
    "\n",
    "writer.close()"
   ]
  }
 ],
 "metadata": {
  "kernelspec": {
   "display_name": "Python 3 (ipykernel)",
   "language": "python",
   "name": "python3"
  },
  "language_info": {
   "codemirror_mode": {
    "name": "ipython",
    "version": 3
   },
   "file_extension": ".py",
   "mimetype": "text/x-python",
   "name": "python",
   "nbconvert_exporter": "python",
   "pygments_lexer": "ipython3",
   "version": "3.9.12"
  }
 },
 "nbformat": 4,
 "nbformat_minor": 5
}
