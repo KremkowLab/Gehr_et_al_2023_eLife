{
 "cells": [
  {
   "cell_type": "code",
   "execution_count": 1,
   "id": "04f2c239",
   "metadata": {},
   "outputs": [],
   "source": [
    "import numpy as np\n",
    "import matplotlib.pyplot as plt\n",
    "import os\n",
    "import scipy.ndimage as ndimage\n",
    "import scipy.ndimage as nd\n",
    "import scipy.interpolate as interpolate\n",
    "import seaborn as sns\n",
    "from matplotlib import rcParams\n",
    "import math\n",
    "import pandas as pd\n",
    "from scipy import stats\n",
    "%matplotlib inline"
   ]
  },
  {
   "cell_type": "code",
   "execution_count": 2,
   "id": "7b917fe1",
   "metadata": {},
   "outputs": [],
   "source": [
    "rcParams['font.sans-serif'] = ['Arial'] \n",
    "rcParams['font.size'] = 6 \n",
    "rcParams['pdf.fonttype'] = 42\n",
    "rcParams['ps.fonttype'] = 42\n",
    "\n",
    "rcParams['axes.linewidth'] = 0.5\n",
    "rcParams['lines.linewidth'] = 0.5\n",
    "rcParams['lines.markersize'] = 2.5\n",
    "rcParams['lines.markeredgewidth'] = 0.0\n",
    "\n",
    "rcParams['xtick.major.width'] = 0.5\n",
    "rcParams['ytick.major.width'] = 0.5\n",
    "\n",
    "to_inch = 0.393701\n",
    "fwidth_cm = 10 \n",
    "fheight_cm = 10. # cm\n",
    "spwidth_cm = 1.5\n",
    "spheight_cm = 3.\n",
    "w = spwidth_cm/fwidth_cm\n",
    "h = spheight_cm/fheight_cm\n",
    "fwidth_inch = fwidth_cm * to_inch\n",
    "fheight_inch = fheight_cm * to_inch\n",
    "\n",
    "cmap = plt.cm.magma\n",
    "\n",
    "lw_scatter = 0.4\n",
    "ticks_fontsize = 6. \n",
    "spines_thickness = 0.5\n",
    "ticks_width = spines_thickness\n",
    "s_scatter = 8  # 10\n",
    "lw_hlines = 1.0\n",
    "lw_stats_bar = 0.6\n",
    "lw_scatter = 0.2\n",
    "alpha_scatter = 0.6\n",
    "width_bars = 1.5\n",
    "tick_length = 3.\n",
    "markersize_rasterdots = 1.5 \n",
    "fs = 6. \n",
    "lw = 0.3 \n",
    "# colors\n",
    "color_mpw = np.array([242,101,34])/255\n",
    "color_su = [0.3,0.3,0.3] \n",
    "color_EXC = 'dimgray' \n",
    "color_INH = np.array([62,185,236.])/255  \n",
    "    \n",
    "despine_offset = 2"
   ]
  },
  {
   "cell_type": "code",
   "execution_count": 3,
   "id": "a9780d8e",
   "metadata": {},
   "outputs": [],
   "source": [
    "data_dir = '/.../Data/' "
   ]
  },
  {
   "cell_type": "code",
   "execution_count": 5,
   "id": "8dcf4600",
   "metadata": {},
   "outputs": [],
   "source": [
    "# panel 1 E/F \n",
    "exp_name = '2022-01-13_15-41-02' \n",
    "selected_clusters = [255, 643, 641]\n",
    "RGCs = [0, 0, 1]\n",
    "cl_labels = ['EXC', 'INH', 'RGC']\n",
    "colors_array = [color_EXC, color_INH, color_mpw]\n",
    "\n",
    "Fig2_Data = np.load(data_dir + 'Fig2_Data.npy', encoding='latin1', allow_pickle=True).item()\n",
    "Efficacy = Fig2_Data['Efficacy'] \n",
    "Distances = Fig2_Data['Distances'] \n",
    "mean_FR = Fig2_Data['mean_FR'] \n",
    "\n",
    "def cohen_d(x,y):\n",
    "    return (np.mean(x) - np.mean(y)) / np.sqrt((np.std(x, ddof=1) ** 2 + np.std(y, ddof=1) ** 2) / 2.0)"
   ]
  },
  {
   "cell_type": "markdown",
   "id": "42a3aa94",
   "metadata": {},
   "source": [
    "## Plot Panel 2 D"
   ]
  },
  {
   "cell_type": "code",
   "execution_count": 11,
   "id": "758573ea",
   "metadata": {},
   "outputs": [
    {
     "name": "stdout",
     "output_type": "stream",
     "text": [
      "EvsI p:: 0.033\n",
      "Cohens d: 0.092\n"
     ]
    },
    {
     "data": {
      "image/png": "[encoded data removed]",
      "text/plain": [
       "<Figure size 283.465x283.465 with 2 Axes>"
      ]
     },
     "metadata": {
      "needs_background": "light"
     },
     "output_type": "display_data"
    }
   ],
   "source": [
    "# Distance Distribution\n",
    "distances_pooled_EXC = Distances['EXC'] \n",
    "distances_pooled_INH = Distances['INH']\n",
    "\n",
    "n_pairs_INH = len(distances_pooled_INH)\n",
    "n_pairs_EXC = len(distances_pooled_EXC)\n",
    "\n",
    "labels = ['RGC->SC_Exc', 'RGC->SC_Inh']\n",
    "sizes_pairs = [n_pairs_EXC, n_pairs_INH]\n",
    "explode = [0.05]*len(sizes_pairs) \n",
    "colors = [color_EXC, color_INH]\n",
    "\n",
    "inh = len(distances_pooled_INH)*['INH']\n",
    "exc = len(distances_pooled_EXC)*['EXC']\n",
    "cell_types = inh + exc\n",
    "\n",
    "distances =  list(distances_pooled_INH) + list(distances_pooled_EXC)\n",
    "\n",
    "fig = plt.figure(1)\n",
    "plt.clf()\n",
    "fig.set_size_inches(fwidth_inch,fheight_inch)\n",
    "# Pie Chart\n",
    "ax2 = plt.axes([0.7,0.6,0.15,0.15])\n",
    "ax2.pie(sizes_pairs, explode=explode, labels=labels, autopct='%1.1f%%', textprops={'fontsize': 6},\n",
    "        colors = colors, shadow=False, startangle=90)\n",
    "ax2.axis('equal')  \n",
    "\n",
    "\n",
    "fig.text(0.6, 0.95, 'Total pairs E and I: %s'%(n_pairs_EXC + n_pairs_INH))\n",
    "fig.text(0.6, 0.9, 'Total pairs RGC-> SC EXC: %s'%(n_pairs_EXC))\n",
    "fig.text(0.6, 0.85, 'Total pairs RGC-> SC INH: %s'%(n_pairs_INH))\n",
    "\n",
    "plt.tick_params('both',pad=1)\n",
    "\n",
    "# stats \n",
    "stats_EvsI, p_EvsI_all = stats.ranksums(distances_pooled_EXC, distances_pooled_INH)\n",
    "print(f\"EvsI p:: {p_EvsI_all:.3f}\")\n",
    "\n",
    "quartiles = [0.25,0.5,0.75]\n",
    "Q1_dist_exc, median_dist_exc, Q3_dist_exc = np.quantile(distances_pooled_EXC, quartiles)\n",
    "Q1_dist_exc = np.round(Q1_dist_exc,2)\n",
    "Q3_dist_exc = np.round(Q3_dist_exc,2)\n",
    "median_dist_exc = np.round(median_dist_exc,2)\n",
    "\n",
    "Q1_dist_inh, median_dist_inh, Q3_dist_inh = np.quantile(distances_pooled_INH, quartiles)\n",
    "Q1_dist_inh = np.round(Q1_dist_inh,2)\n",
    "Q3_dist_inh = np.round(Q3_dist_inh,2)\n",
    "median_dist_inh = np.round(median_dist_inh,2)\n",
    "\n",
    "cohen_d_Distance = cohen_d(distances_pooled_INH, distances_pooled_EXC)\n",
    "print(f\"Cohens d: {cohen_d_Distance:.3f}\")\n",
    "\n",
    "hs_range = np.arange(0,1000,20)\n",
    "hs_EXC = np.histogram(distances_pooled_EXC,hs_range)\n",
    "hs_INH = np.histogram(distances_pooled_INH,hs_range)\n",
    "hs_EXC = hs_EXC[0] / hs_EXC[0].max()\n",
    "hs_INH = hs_INH[0] / hs_INH[0].max()\n",
    "\n",
    "x_lim =  [0,1000] #  [0, 500]  #[0,500]\n",
    "x_ticks = np.arange(0, x_lim[1]+1, 500)\n",
    "# Distance distribution\n",
    "ax = plt.axes([0.1,0.8,0.15,0.09])\n",
    "ax.tick_params(length=tick_length)\n",
    "ax.spines['right'].set_visible(False)\n",
    "ax.spines['top'].set_visible(False)\n",
    "ax.fill_between(hs_range[0:-1],hs_INH,step='mid',alpha=0.9,fc=color_INH,ec=color_INH,joinstyle='miter')\n",
    "ax.fill_between(hs_range[0:-1],hs_EXC,step='mid',alpha=0.6,fc=color_EXC,ec=color_EXC,joinstyle='miter')\n",
    "ax.step(hs_range[0:-1],hs_INH, where='mid',alpha=0.9, color=color_INH)\n",
    "ax.step(hs_range[0:-1],hs_EXC, where='mid', alpha=0.6, color=color_EXC)\n",
    "\n",
    "plt.yticks([0,1])\n",
    "plt.ylim([0,1.])\n",
    "plt.xlabel('Distance (um)',labelpad=0)\n",
    "plt.ylabel('Norm. Freq.',labelpad=0)\n",
    "plt.tick_params('both',pad=1)\n",
    "plt.xlim(x_lim)\n",
    "plt.xticks(x_ticks)\n",
    "\n",
    "sns.despine(ax=ax, offset=2, trim=True)"
   ]
  },
  {
   "cell_type": "markdown",
   "id": "602f0079",
   "metadata": {},
   "source": [
    "## Plot panel 2 F"
   ]
  },
  {
   "cell_type": "code",
   "execution_count": 8,
   "id": "2686f65f",
   "metadata": {},
   "outputs": [
    {
     "name": "stdout",
     "output_type": "stream",
     "text": [
      "p value: 0.053\n"
     ]
    },
    {
     "data": {
      "text/plain": [
       "Text(1, 90.0, '0.05344007623737609')"
      ]
     },
     "execution_count": 8,
     "metadata": {},
     "output_type": "execute_result"
    },
    {
     "data": {
      "image/png": "[encoded data removed]",
      "text/plain": [
       "<Figure size 432x288 with 1 Axes>"
      ]
     },
     "metadata": {
      "needs_background": "light"
     },
     "output_type": "display_data"
    }
   ],
   "source": [
    "# Figure 2F) Efficacy\n",
    "efficacy_exc = Efficacy['EXC'] \n",
    "efficacy_inh = Efficacy['INH']\n",
    "\n",
    "efficacies = list(efficacy_inh) + list(efficacy_exc)\n",
    "\n",
    "all_efficacies_Exc_list = list(efficacy_exc)\n",
    "all_efficacies_Inh_list = list(efficacy_inh)\n",
    "\n",
    "aa = np.ones(len(all_efficacies_Exc_list))*1 \n",
    "bb = np.ones(len(all_efficacies_Inh_list))*3\n",
    "cc = np.ones(len(all_efficacies_Inh_list))*2\n",
    "\n",
    "stats_tmp_EFF = stats.ranksums(efficacy_exc, efficacy_inh)\n",
    "print(f'p value: {stats_tmp_EFF[1]:.3f}')\n",
    "\n",
    "quartiles = [0.25,0.5,0.75]\n",
    "Q1_eff_exc, median_eff_exc, Q3_eff_exc = np.quantile(efficacy_exc, quartiles)\n",
    "Q1_eff_exc = np.round(Q1_eff_exc,2)\n",
    "Q3_eff_exc = np.round(Q3_eff_exc,2)\n",
    "median_eff_exc = np.round(median_eff_exc,2)\n",
    "\n",
    "Q1_eff_inh, median_eff_inh, Q3_eff_inh = np.quantile(efficacy_inh, quartiles)\n",
    "Q1_eff_inh = np.round(Q1_eff_inh,2)\n",
    "Q3_eff_inh = np.round(Q3_eff_inh,2)\n",
    "median_eff_inh = np.round(median_eff_inh,2)\n",
    "\n",
    "cohen_d_Efficacy = cohen_d(efficacy_inh, efficacy_exc)\n",
    "\n",
    "ylim_percentage = 90.\n",
    "\n",
    "ax1 = plt.axes([0.1,0.1, 0.15, 0.18])\n",
    "ax1.tick_params(length=tick_length)\n",
    "ax1.tick_params(labelsize=ticks_fontsize)  # ticks size font\n",
    "\n",
    "plt.scatter(aa, np.array(all_efficacies_Exc_list),  s=8, facecolors='none', edgecolors='dimgray', linewidths=lw_scatter) #\n",
    "plt.scatter(bb, np.array(all_efficacies_Inh_list),  s=8, facecolors='none', edgecolors='deepskyblue', linewidths=lw_scatter) \n",
    "\n",
    "positions_x = [1, 3]\n",
    "labels_x = ['E',  'I']\n",
    "ax1.hlines(y=np.mean(all_efficacies_Exc_list), xmin=0.7, xmax=1.3, linewidth=lw_hlines, color='dimgray')\n",
    "ax1.hlines(y=np.mean(all_efficacies_Inh_list), xmin=2.7, xmax=3.3, linewidth=lw_hlines, color='deepskyblue')\n",
    "ax1.set_yticks([0,35,70])\n",
    "\n",
    "ax1.set_ylabel('Efficacy (%)') \n",
    "ax1.set_xticks(positions_x )  \n",
    "ax1.set_xticklabels(labels_x, fontsize=2)\n",
    "sns.despine(offset=despine_offset , trim=True) \n",
    "\n",
    "ax1.hlines(y=ylim_percentage-5, xmin=1., xmax=3., linewidth=lw_stats_bar, color='k')\n",
    "ax1.vlines(x=1, ymin=ylim_percentage-10, ymax=ylim_percentage-5, linewidth=lw_stats_bar, color='k')  \n",
    "ax1.vlines(x=3, ymin=ylim_percentage-10, ymax=ylim_percentage-5, linewidth=lw_stats_bar, color='k') \n",
    "ax1.text(1, ylim_percentage, str(stats_tmp_EFF[1])) "
   ]
  },
  {
   "cell_type": "markdown",
   "id": "2ffb5103",
   "metadata": {},
   "source": [
    "## Plot Panel 2 F cumulative distribution"
   ]
  },
  {
   "cell_type": "code",
   "execution_count": 12,
   "id": "6d4e5f0b",
   "metadata": {},
   "outputs": [
    {
     "data": {
      "text/plain": [
       "Text(0.01, 0.53, 'Median Efficacy INHs: 4.54, Q1: 2.2, Q3: 7.96 ')"
      ]
     },
     "execution_count": 12,
     "metadata": {},
     "output_type": "execute_result"
    },
    {
     "data": {
      "image/png": "[encoded data removed]",
      "text/plain": [
       "<Figure size 432x288 with 1 Axes>"
      ]
     },
     "metadata": {
      "needs_background": "light"
     },
     "output_type": "display_data"
    }
   ],
   "source": [
    "# 2F) Efficacy cumulative Dist \n",
    "\n",
    "ax_Eff = plt.axes([0.1,0.4, 0.15, 0.075])\n",
    "\n",
    "ax_Eff.tick_params(length=tick_length)\n",
    "ax_Eff.spines['right'].set_visible(False)\n",
    "ax_Eff.spines['top'].set_visible(False)\n",
    "\n",
    "df_Efficacy = pd.DataFrame()\n",
    "df_Efficacy['Efficacy']  = efficacies\n",
    "df_Efficacy['cell_types']  = cell_types\n",
    "\n",
    "sns.ecdfplot(data=df_Efficacy, x=\"Efficacy\", hue=\"cell_types\", stat = 'proportion' ,  palette=colors, legend=False)\n",
    "\n",
    "x_labels_eff = [0, 25,50, 75]\n",
    "x_positions_eff = [0, 25,50, 75]\n",
    "y_labels = [0, 0.5, 1]\n",
    "y_positions =  [0, 0.5, 1]\n",
    "\n",
    "mark = 0.5\n",
    " \n",
    "ax_Eff.set_yticks(y_positions)\n",
    "ax_Eff.set_yticklabels(y_labels)\n",
    "\n",
    "ax_Eff.hlines(y= mark, xmin= median_eff_exc, xmax=median_eff_inh, linewidth=lw, linestyles='dashed', color='k')\n",
    "sns.despine(ax= ax_Eff, offset=despine_offset , trim=False)\n",
    "\n",
    "ax_Eff.set_xticks(x_positions_eff)\n",
    "ax_Eff.set_xticklabels(x_labels_eff)\n",
    "\n",
    "fig.text(0.01, 0.56, 'Median Efficacy EXCs: %s, Q1: %s, Q3: %s '%(median_eff_exc, Q1_eff_exc, Q3_eff_exc))\n",
    "fig.text(0.01, 0.53, 'Median Efficacy INHs: %s, Q1: %s, Q3: %s '%(median_eff_inh, Q1_eff_inh, Q3_eff_inh))"
   ]
  },
  {
   "cell_type": "markdown",
   "id": "2ae95b59",
   "metadata": {},
   "source": [
    "## Panel 2 G"
   ]
  },
  {
   "cell_type": "code",
   "execution_count": 13,
   "id": "5230be6a",
   "metadata": {},
   "outputs": [
    {
     "data": {
      "text/plain": [
       "Text(0.5, 0.3, 'stas.linregress INH r 0.43543 | p 0.00002')"
      ]
     },
     "execution_count": 13,
     "metadata": {},
     "output_type": "execute_result"
    },
    {
     "data": {
      "image/png": "[encoded data removed]",
      "text/plain": [
       "<Figure size 432x288 with 1 Axes>"
      ]
     },
     "metadata": {
      "needs_background": "light"
     },
     "output_type": "display_data"
    }
   ],
   "source": [
    "mean_FR_exc = mean_FR['EXC'] \n",
    "mean_FR_inh = mean_FR['INH']\n",
    "\n",
    "x_EXC = efficacy_exc \n",
    "y_EXC = mean_FR_exc\n",
    "\n",
    "x_INH = efficacy_inh \n",
    "y_INH = mean_FR_inh\n",
    "\n",
    "s_scatter = 0.5\n",
    "\n",
    "x_lim = [0, 100]\n",
    "y_lim = [-1, 30]\n",
    "\n",
    "x_lim_log = [0.1, 100]\n",
    "x_ticks_log = [0.1, 1, 10, 100]\n",
    "ax_corr_combined_fullST = plt.axes([0.8,0.1,0.12, 0.12]) \n",
    "ax_corr_combined_fullST.tick_params(length=tick_length)\n",
    "ax_corr_combined_fullST.spines['right'].set_visible(False)\n",
    "ax_corr_combined_fullST.spines['top'].set_visible(False)\n",
    "ax_corr_combined_fullST.tick_params(length=tick_length)\n",
    "plt.scatter(x_EXC, y_EXC, s=s_scatter, color=color_EXC)\n",
    "\n",
    "plt.plot(np.unique(x_EXC), np.poly1d(np.polyfit(x_EXC, y_EXC, 1))(np.unique(x_EXC)), color='gray')  # add line of best fit\n",
    "plt.scatter(x_INH, y_INH, s=s_scatter,color=color_INH)\n",
    "\n",
    "plt.plot(np.unique(x_INH), np.poly1d(np.polyfit(x_INH, y_INH, 1))(np.unique(x_INH)), color='blue') \n",
    "ax_corr_combined_fullST.set_xlabel('Efficacy (%)')\n",
    "ax_corr_combined_fullST.set_ylabel('Mean FR (spikes/s) Full st')\n",
    "\n",
    "ax_corr_combined_fullST.set_xlim(x_lim_log)\n",
    "ax_corr_combined_fullST.set_ylim(y_lim)\n",
    "ax_corr_combined_fullST.set_xscale('log')\n",
    "ax_corr_combined_fullST.set_xticks(x_ticks_log)\n",
    "ax_corr_combined_fullST.set_xticklabels(x_ticks_log)\n",
    "ax_corr_combined_fullST.set_yticks([0, 10, 20, 30])\n",
    "ax_corr_combined_fullST.set_yticklabels([0, 10, 20, 30])\n",
    "\n",
    "sns.despine(ax= ax_corr_combined_fullST, offset=despine_offset, trim=True)\n",
    "\n",
    "slope, intercept, r_value_EXC_log, p_value_EXC_log, std_err = stats.linregress(np.log(x_EXC), y_EXC)\n",
    "slope, intercept, r_value_INH_log, p_value_INH_log, std_err = stats.linregress(np.log(x_INH), y_INH)\n",
    "\n",
    "\n",
    "fig.text(0.5, 0.35 , 'Correlation of LOG Efficacy vs Mean FR Full spiketrain')\n",
    "fig.text(0.5, 0.32,'stas.linregress EXC r {:.5f} | p {:.5f}'.format(r_value_EXC_log, p_value_EXC_log) )\n",
    "fig.text(0.5, 0.3,'stas.linregress INH r {:.5f} | p {:.5f}'.format(r_value_INH_log, p_value_INH_log) )\n",
    "\n",
    "# Save figure \n",
    "#plt.savefig(data_dir + 'Figure2D_F_G' + '.pdf', dpi=200)"
   ]
  },
  {
   "cell_type": "code",
   "execution_count": 15,
   "id": "bf479367",
   "metadata": {},
   "outputs": [],
   "source": [
    "# Store as xlsx\n",
    "inh = len(distances_pooled_INH)*['INH']\n",
    "exc = len(distances_pooled_EXC)*['EXC']\n",
    "cell_types = inh + exc\n",
    "\n",
    "distances =  list(distances_pooled_INH) + list(distances_pooled_EXC)\n",
    "efficacies = list(efficacy_inh) + list(efficacy_exc)\n",
    "mean_FRs =  list(mean_FR_inh) + list(mean_FR_exc)\n",
    "\n",
    "df_Fig2 = pd.DataFrame()\n",
    "df_Fig2['cell_types']  = cell_types\n",
    "df_Fig2['Distance']  = distances\n",
    "df_Fig2['Efficacy']  = efficacies\n",
    "df_Fig2['MeanFR']  = mean_FRs\n",
    "df_Fig2\n",
    "\n",
    "sheet_name = 'fig2'\n",
    "file_name = data_dir + 'data_source_fig2.xlsx' \n",
    "with pd.ExcelWriter(file_name) as writer:\n",
    "    df_Fig2.to_excel(writer, sheet_name=sheet_name,startcol=0)"
   ]
  }
 ],
 "metadata": {
  "kernelspec": {
   "display_name": "Python 3 (ipykernel)",
   "language": "python",
   "name": "python3"
  },
  "language_info": {
   "codemirror_mode": {
    "name": "ipython",
    "version": 3
   },
   "file_extension": ".py",
   "mimetype": "text/x-python",
   "name": "python",
   "nbconvert_exporter": "python",
   "pygments_lexer": "ipython3",
   "version": "3.9.12"
  }
 },
 "nbformat": 4,
 "nbformat_minor": 5
}
