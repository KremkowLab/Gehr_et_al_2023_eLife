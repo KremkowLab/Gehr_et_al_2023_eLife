{
 "cells": [
  {
   "cell_type": "code",
   "execution_count": 5,
   "id": "3381cc44",
   "metadata": {},
   "outputs": [],
   "source": [
    "import numpy as np\n",
    "import matplotlib.pyplot as plt\n",
    "import os\n",
    "import scipy.ndimage as ndimage\n",
    "import scipy.ndimage as nd\n",
    "import scipy.interpolate as interpolate\n",
    "import seaborn as sns\n",
    "from matplotlib import rcParams\n",
    "import math\n",
    "import pandas as pd\n",
    "from scipy import stats\n",
    "%matplotlib inline"
   ]
  },
  {
   "cell_type": "code",
   "execution_count": 6,
   "id": "8b95a063",
   "metadata": {},
   "outputs": [],
   "source": [
    "rcParams['font.sans-serif'] = ['Arial'] \n",
    "rcParams['font.size'] = 6 #7\n",
    "rcParams['pdf.fonttype'] = 42\n",
    "rcParams['ps.fonttype'] = 42\n",
    "\n",
    "rcParams['axes.linewidth'] = 0.5\n",
    "rcParams['lines.linewidth'] = 0.5\n",
    "rcParams['lines.markersize'] = 2.5\n",
    "rcParams['lines.markeredgewidth'] = 0.0\n",
    "\n",
    "rcParams['xtick.major.width'] = 0.5\n",
    "rcParams['ytick.major.width'] = 0.5\n",
    "\n",
    "to_inch = 0.393701\n",
    "fwidth_cm = 10 \n",
    "fheight_cm = 10. # cm\n",
    "\n",
    "spwidth_cm = 1.5\n",
    "spheight_cm = 3.\n",
    "\n",
    "\n",
    "w = spwidth_cm/fwidth_cm\n",
    "h = spheight_cm/fheight_cm\n",
    "\n",
    "fwidth_inch = fwidth_cm * to_inch\n",
    "fheight_inch = fheight_cm * to_inch\n",
    "\n",
    "cmap = plt.cm.magma\n",
    "\n",
    "lw_scatter = 0.4\n",
    "ticks_fontsize = 6. \n",
    "spines_thickness = 0.5\n",
    "ticks_width = spines_thickness\n",
    "s_scatter = 8  # 10\n",
    "lw_hlines = 1.0\n",
    "lw_stats_bar = 0.6\n",
    "lw_scatter = 0.2\n",
    "alpha_scatter = 0.6\n",
    "width_bars = 1.5\n",
    "tick_length = 3.\n",
    "markersize_rasterdots = 1.5 \n",
    "fs = 6.\n",
    "lw = 0.3 \n",
    "ms = 1.5 \n",
    "\n",
    "color_mpw = np.array([242,101,34])/255\n",
    "color_su = [0.3,0.3,0.3] \n",
    "color_EXC = 'dimgray' \n",
    "color_INH = np.array([62,185,236.])/255 \n",
    "    \n",
    "despine_offset = 2"
   ]
  },
  {
   "cell_type": "code",
   "execution_count": 2,
   "id": "34e3cc8d",
   "metadata": {},
   "outputs": [],
   "source": [
    "data_dir = '/.../Data/' "
   ]
  },
  {
   "cell_type": "code",
   "execution_count": 3,
   "id": "28181f09",
   "metadata": {},
   "outputs": [],
   "source": [
    "Efficacies_1st2nd_PSR = np.load(data_dir + 'Efficacies_1st2nd_PSR.npy'  , encoding='latin1', allow_pickle=True).item()\n",
    "\n",
    "efficacy_1st = Efficacies_1st2nd_PSR['efficacy_1st'] \n",
    "efficacy_2nd= Efficacies_1st2nd_PSR['efficacy_2nd'] \n",
    "exc_idx = Efficacies_1st2nd_PSR['mask_EXC'] \n",
    "inh_idx = Efficacies_1st2nd_PSR['mask_INH']\n",
    "psr_deadTime30_MinMAxISI_2_30 = Efficacies_1st2nd_PSR['psr_deadTime30_MinMAxISI_2_30'] \n",
    "psr_deadTime30_MinMAxISI_5_30 = Efficacies_1st2nd_PSR['psr_deadTime30_MinMAxISI_5_30']\n",
    "psr = psr_deadTime30_MinMAxISI_5_30.copy() \n",
    "\n",
    "efficacies_1st_EXC = efficacy_1st[exc_idx] \n",
    "efficacies_2nd_EXC = efficacy_2nd[exc_idx]\n",
    "efficacies_1st_INH = efficacy_1st[inh_idx]\n",
    "efficacies_2nd_INH = efficacy_2nd[inh_idx] \n",
    "   \n",
    "psr_EXC = psr[exc_idx]\n",
    "psr_INH = psr[inh_idx]"
   ]
  },
  {
   "cell_type": "markdown",
   "id": "f688774f",
   "metadata": {},
   "source": [
    "## Plot panel 4 C "
   ]
  },
  {
   "cell_type": "code",
   "execution_count": 7,
   "id": "63ba6824",
   "metadata": {},
   "outputs": [
    {
     "name": "stdout",
     "output_type": "stream",
     "text": [
      "Efficacy Paired-Spike EXC p: 3.1255762381097145e-25\n",
      "Efficacy Paired-Spike INH p: 1.6755923812758194e-06\n"
     ]
    },
    {
     "data": {
      "text/plain": [
       "[Text(0, 0.1, '0.1'),\n",
       " Text(0, 1.0, '1'),\n",
       " Text(0, 10.0, '10'),\n",
       " Text(0, 100.0, '100')]"
      ]
     },
     "execution_count": 7,
     "metadata": {},
     "output_type": "execute_result"
    },
    {
     "data": {
      "image/png": "[encoded data removed]",
      "text/plain": [
       "<Figure size 283.465x283.465 with 1 Axes>"
      ]
     },
     "metadata": {
      "needs_background": "light"
     },
     "output_type": "display_data"
    }
   ],
   "source": [
    "# 4C) Grid\n",
    "stats_pairedSpike_EXC, p_pairedSpike_EXC = stats.wilcoxon(efficacies_1st_EXC, efficacies_2nd_EXC)\n",
    "print('Efficacy Paired-Spike EXC p: %s'%p_pairedSpike_EXC)\n",
    "stats_pairedSpike_INH , p_pairedSpike_INH = stats.wilcoxon(efficacies_1st_INH, efficacies_2nd_INH)\n",
    "print('Efficacy Paired-Spike INH p: %s'%p_pairedSpike_INH)\n",
    "\n",
    "fig = plt.figure()\n",
    "plt.clf()\n",
    "fig.set_size_inches(fwidth_inch,fheight_inch)\n",
    "\n",
    "ax_4C = plt.axes([0.1,0.1,0.25,0.25])   \n",
    "ax_4C.tick_params(length=tick_length)\n",
    "ax_4C.tick_params(labelsize=ticks_fontsize)  # ticks size font\n",
    "ax_4C.plot(np.array(efficacies_1st_EXC), np.array(efficacies_2nd_EXC), 'o', color=color_EXC, markersize=ms)\n",
    "ax_4C.plot(np.array(efficacies_1st_INH), np.array(efficacies_2nd_INH), 'D', color=color_INH, markersize=ms)\n",
    "ax_4C.plot([0.1,100], [0.1,100], 'gray')\n",
    "ax_4C.grid()\n",
    "ax_4C.set_xlabel('Efficacy 1st RGC')\n",
    "ax_4C.set_ylabel('Efficacy 2nd RGC')\n",
    "ax_4C.set_ylim([0.1,100]) \n",
    "ax_4C.set_xlim([0.1,100]) \n",
    "ax_4C.set_yscale('log')\n",
    "ax_4C.set_xscale('log')\n",
    "positions = [0.1,1, 10, 100]\n",
    "labels = ['0.1', '1', '10', '100']\n",
    "ax_4C.set_xticks(positions )  \n",
    "ax_4C.set_xticklabels(labels)\n",
    "ax_4C.set_yticks(positions )  \n",
    "ax_4C.set_yticklabels(labels)"
   ]
  },
  {
   "cell_type": "markdown",
   "id": "426e4aee",
   "metadata": {},
   "source": [
    "## Plot panel 4 D"
   ]
  },
  {
   "cell_type": "code",
   "execution_count": 8,
   "id": "eb951d34",
   "metadata": {},
   "outputs": [
    {
     "data": {
      "text/plain": [
       "Text(0.05, 0.7, 'p E vs I 2.5817931234597684e-05')"
      ]
     },
     "execution_count": 8,
     "metadata": {},
     "output_type": "execute_result"
    },
    {
     "data": {
      "image/png": "[encoded data removed]",
      "text/plain": [
       "<Figure size 432x288 with 1 Axes>"
      ]
     },
     "metadata": {
      "needs_background": "light"
     },
     "output_type": "display_data"
    }
   ],
   "source": [
    "# 4 D)  Histrogram PSR\n",
    "ax_4D = plt.axes([0.1,0.5, 0.2, 0.15])\n",
    "ax_4D.tick_params(length=tick_length)\n",
    "ax_4D.tick_params(labelsize=ticks_fontsize)  \n",
    "ax_4D.tick_params(width=ticks_width) \n",
    "ax_4D.spines['left'].set_linewidth(spines_thickness)  \n",
    "ax_4D.spines['bottom'].set_linewidth(spines_thickness)  \n",
    "ax_4D.spines['right'].set_visible(False)\n",
    "ax_4D.spines['top'].set_visible(False)\n",
    "\n",
    "hs_range = np.arange(0, 13, 0.25)\n",
    "hs_PPR_EXC = np.histogram(psr_EXC,hs_range)\n",
    "hs_PPR_INH = np.histogram(psr_INH,hs_range)\n",
    "hs_PPR_EXC = hs_PPR_EXC[0] / hs_PPR_EXC[0].max()\n",
    "hs_PPR_INH = hs_PPR_INH[0] / hs_PPR_INH[0].max()\n",
    "x_lim =  [0, 15] #  [0, 500]  #[0,500]\n",
    "x_ticks = np.arange(x_lim[0], x_lim[1]+1, 5)\n",
    "ax_4D.step(hs_range[0:-1],hs_PPR_INH, where='mid', linewidth=lw, alpha=0.9, color=color_INH)\n",
    "ax_4D.step(hs_range[0:-1],hs_PPR_EXC, where='mid', linewidth=lw,  alpha=0.6, color=color_EXC)\n",
    "plt.yticks([0,1])\n",
    "plt.xlabel('PSR',labelpad=0)\n",
    "plt.ylabel('Norm Frequ.',labelpad=0)\n",
    "plt.tick_params('both',pad=1)\n",
    "plt.xticks(x_ticks)\n",
    "\n",
    "sns.despine(ax= ax_4D, offset=despine_offset , trim=True)\n",
    "plt.xlim(x_lim)\n",
    "stats_EI , p_value_PSR_EI = stats.ranksums(psr_EXC, psr_INH)\n",
    "fig.text(0.05, 0.7, 'p E vs I %s'%(p_value_PSR_EI))"
   ]
  },
  {
   "cell_type": "markdown",
   "id": "828ec3de",
   "metadata": {},
   "source": [
    "## Plot panel 4 E"
   ]
  },
  {
   "cell_type": "code",
   "execution_count": 9,
   "id": "d03b78be",
   "metadata": {},
   "outputs": [
    {
     "data": {
      "image/png": "[encoded data removed]",
      "text/plain": [
       "<Figure size 432x288 with 1 Axes>"
      ]
     },
     "metadata": {
      "needs_background": "light"
     },
     "output_type": "display_data"
    }
   ],
   "source": [
    "# 4E ) PSR vs Efficacy 1st\n",
    "pearson_r_EXC, p_1stvsPPR_EXC = stats.pearsonr(np.log(efficacies_1st_EXC), np.log(list(psr_EXC)))\n",
    "pearson_r_INH, p_1stvsPPR_INH = stats.pearsonr(np.log(efficacies_1st_INH), np.log(list(psr_INH)))\n",
    "   \n",
    "s_scatter = 3\n",
    "fs = 6.\n",
    "lim_eff = [0.01,100]\n",
    "lim_ppr = [0.1,15]\n",
    "   \n",
    "ax_4E = plt.axes([0.7,0.15, 0.15,0.15])\n",
    "ax_4E.tick_params(length=tick_length)\n",
    "ax_4E.tick_params(labelsize=ticks_fontsize) \n",
    "ax_4E.spines['right'].set_visible(False)\n",
    "ax_4E.spines['top'].set_visible(False)\n",
    "ax_4E.scatter(np.array(efficacies_1st_EXC),  psr_EXC , s=s_scatter, marker='.', color=color_EXC ) #s=10, facecolors='none', edgecolors=color_EXC, linewidths=lw_scatter)\n",
    "ax_4E.scatter(np.array(efficacies_1st_INH), psr_INH, s=s_scatter, marker='.', color=color_INH ) # s=10, facecolors='none', edgecolors=color_INH, linewidths=lw_scatter)\n",
    "ax_4E.set_xlabel('Efficacy 1st (%)', fontsize=fs)\n",
    "ax_4E.set_ylabel('PSR', fontsize=fs)\n",
    "ax_4E.set_xscale('log')\n",
    "ax_4E.set_yscale('log')\n",
    "plt.xlim(lim_eff)\n",
    "plt.ylim(lim_ppr)\n",
    "sns.despine(ax= ax_4E, offset=2. , trim=True) "
   ]
  },
  {
   "cell_type": "markdown",
   "id": "6c882cbe",
   "metadata": {},
   "source": [
    "## Plot panel 4 F"
   ]
  },
  {
   "cell_type": "code",
   "execution_count": 10,
   "id": "19ed10c8",
   "metadata": {},
   "outputs": [
    {
     "data": {
      "text/plain": [
       "Text(0.4, 0.8, '5_30ms Mean EXC 1.7112781927303762 || INH 1.2807744023360161')"
      ]
     },
     "execution_count": 10,
     "metadata": {},
     "output_type": "execute_result"
    },
    {
     "data": {
      "image/png": "[encoded data removed]",
      "text/plain": [
       "<Figure size 432x288 with 1 Axes>"
      ]
     },
     "metadata": {
      "needs_background": "light"
     },
     "output_type": "display_data"
    }
   ],
   "source": [
    "# 4 F) \n",
    "ISI_2_30_EXC = psr_deadTime30_MinMAxISI_2_30[exc_idx]\n",
    "ISI_5_30_EXC = psr_deadTime30_MinMAxISI_5_30[exc_idx]\n",
    "ISI_2_30_INH = psr_deadTime30_MinMAxISI_2_30[inh_idx]\n",
    "ISI_5_30_INH = psr_deadTime30_MinMAxISI_5_30[inh_idx]\n",
    "\n",
    "ee = np.ones(len(psr_EXC))*0.85\n",
    "ii = np.ones(len(psr_INH))*1.85\n",
    "\n",
    "ee_2 = np.ones(len(psr_EXC))*3.85\n",
    "ii_2 = np.ones(len(psr_INH))*4.85\n",
    "\n",
    "ax_4F = plt.axes([0.7, 0.5,  0.17, 0.16])\n",
    "# EXC\n",
    "ax_4F.scatter(ee, ISI_2_30_EXC, s=s_scatter, facecolors='none', edgecolors=color_EXC, linewidths=lw_scatter ) #'o', color = 'r')\n",
    "ax_4F.plot(1.16, ISI_2_30_EXC.mean(), 'o', ms= 3,  color = color_EXC)\n",
    "ax_4F.errorbar(1.16, ISI_2_30_EXC.mean(), ISI_2_30_EXC.std(), color=color_EXC) \n",
    "# INH\n",
    "ax_4F.scatter(ii, ISI_2_30_INH, s=s_scatter, facecolors='none', edgecolors=color_INH, linewidths=lw_scatter) # 'o', color = 'r')\n",
    "ax_4F.plot(2.16, ISI_2_30_INH.mean(), 'o', ms= 3, color = color_INH)\n",
    "ax_4F.errorbar(2.16, ISI_2_30_INH.mean(), ISI_2_30_INH.std(), color=color_INH)\n",
    "# ISI 2 \n",
    "# EXC\n",
    "ax_4F.scatter(ee_2, ISI_5_30_EXC, s=s_scatter, facecolors='none', edgecolors=color_EXC, linewidths=lw_scatter ) #'o', color = 'r')\n",
    "ax_4F.plot(4.16, ISI_5_30_EXC.mean(), 'o', ms= 3,  color = color_EXC)\n",
    "ax_4F.errorbar(4.16,ISI_5_30_EXC.mean(), ISI_5_30_EXC.std(), color=color_EXC) \n",
    "# INH\n",
    "ax_4F.scatter(ii_2, ISI_5_30_INH, s=s_scatter, facecolors='none', edgecolors=color_INH, linewidths=lw_scatter) # 'o', color = 'r')\n",
    "ax_4F.plot(5.16, ISI_5_30_INH.mean(), 'o', ms= 3, color = color_INH)\n",
    "ax_4F.errorbar(5.16, ISI_5_30_INH.mean(), ISI_5_30_INH.std(), color=color_INH)\n",
    "\n",
    "ax_4F.set_xticks([1,2,3,4,5])\n",
    "ax_4F.set_yticks([0, 5, 10, 15])\n",
    "\n",
    "ax_4F.set_xlim([0.3, 6.3])\n",
    "ax_4F.set_ylabel('Mean PSR')\n",
    "\n",
    "sns.despine(ax=ax_4F, offset=despine_offset, trim=True)\n",
    "ax_4F.set_xticklabels( ['2_30ms', '2_30ms', '' ,  '5_30ms', '5_30ms'] , rotation= 45, va=\"center\") #('ISI group')   \n",
    "\n",
    "fig.text(0.4, 0.88, '2_30ms STD EXC %s || INH %s'%(ISI_2_30_EXC.std(), ISI_2_30_INH.std())) \n",
    "fig.text(0.4, 0.86, '2_30ms Mean EXC %s || INH %s'%(ISI_2_30_EXC.mean(), ISI_2_30_INH.mean())) \n",
    "fig.text(0.4, 0.82, '5_30ms STD EXC %s || INH %s'%(ISI_5_30_EXC.std(), ISI_5_30_INH.std())) \n",
    "fig.text(0.4, 0.8, '5_30ms Mean EXC %s || INH %s'%(ISI_5_30_EXC.mean(), ISI_5_30_INH.mean())) "
   ]
  },
  {
   "cell_type": "code",
   "execution_count": 11,
   "id": "e9bd691b",
   "metadata": {},
   "outputs": [],
   "source": [
    "df_Figure4 = pd.DataFrame()\n",
    "df_Figure4['efficacy_1st'] =  efficacy_1st\n",
    "df_Figure4['efficacy_2nd'] =  efficacy_2nd\n",
    "df_Figure4['EXC'] = exc_idx\n",
    "df_Figure4['INH'] = inh_idx\n",
    "\n",
    "df_Figure4['psr_deadTime30_MinMAxISI_2_30']  = psr_deadTime30_MinMAxISI_2_30 \n",
    "df_Figure4['psr_deadTime30_MinMAxISI_5_30'] = psr_deadTime30_MinMAxISI_5_30"
   ]
  },
  {
   "cell_type": "code",
   "execution_count": 12,
   "id": "5ef05a7d",
   "metadata": {},
   "outputs": [
    {
     "name": "stderr",
     "output_type": "stream",
     "text": [
      "/Users/carolingehr/opt/anaconda3/lib/python3.9/site-packages/xlsxwriter/workbook.py:339: UserWarning: Calling close() on already closed file.\n",
      "  warn(\"Calling close() on already closed file.\")\n"
     ]
    }
   ],
   "source": [
    "#  write data as .xlsx\n",
    "sheet_name = 'fig4'\n",
    "file_name = data_dir + 'data_source_fig4.xlsx'\n",
    "writer = pd.ExcelWriter(file_name) \n",
    "\n",
    "with pd.ExcelWriter(file_name) as writer:\n",
    "    df_Figure4.to_excel(writer, sheet_name=sheet_name,startcol=0)\n",
    "\n",
    "writer.close()"
   ]
  },
  {
   "cell_type": "code",
   "execution_count": null,
   "id": "9b5a3950",
   "metadata": {},
   "outputs": [],
   "source": []
  }
 ],
 "metadata": {
  "kernelspec": {
   "display_name": "Python 3 (ipykernel)",
   "language": "python",
   "name": "python3"
  },
  "language_info": {
   "codemirror_mode": {
    "name": "ipython",
    "version": 3
   },
   "file_extension": ".py",
   "mimetype": "text/x-python",
   "name": "python",
   "nbconvert_exporter": "python",
   "pygments_lexer": "ipython3",
   "version": "3.9.12"
  }
 },
 "nbformat": 4,
 "nbformat_minor": 5
}
